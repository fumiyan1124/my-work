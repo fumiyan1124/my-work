{
 "cells": [
  {
   "cell_type": "code",
   "execution_count": 1,
   "id": "43e3d103",
   "metadata": {},
   "outputs": [
    {
     "data": {
      "text/plain": [
       "3-element Vector{Int64}:\n",
       " 1\n",
       " 2\n",
       " 3"
      ]
     },
     "execution_count": 1,
     "metadata": {},
     "output_type": "execute_result"
    }
   ],
   "source": [
    "a = [1,2,3]"
   ]
  },
  {
   "cell_type": "code",
   "execution_count": 2,
   "id": "9c8e9690",
   "metadata": {},
   "outputs": [
    {
     "data": {
      "text/plain": [
       "3-element Vector{Int64}:\n",
       " -1\n",
       "  9\n",
       " 11"
      ]
     },
     "execution_count": 2,
     "metadata": {},
     "output_type": "execute_result"
    }
   ],
   "source": [
    "b = [-1, 9,11]"
   ]
  },
  {
   "cell_type": "code",
   "execution_count": 3,
   "id": "3cff2be6",
   "metadata": {},
   "outputs": [
    {
     "ename": "LoadError",
     "evalue": "syntax: invalid identifier name \".\"",
     "output_type": "error",
     "traceback": [
      "syntax: invalid identifier name \".\"",
      "",
      "Stacktrace:",
      " [1] top-level scope",
      "   @ In[3]:1",
      " [2] eval",
      "   @ .\\boot.jl:373 [inlined]",
      " [3] include_string(mapexpr::typeof(REPL.softscope), mod::Module, code::String, filename::String)",
      "   @ Base .\\loading.jl:1196"
     ]
    }
   ],
   "source": [
    "sum(a*.b)"
   ]
  },
  {
   "cell_type": "code",
   "execution_count": 4,
   "id": "56239b38",
   "metadata": {},
   "outputs": [
    {
     "data": {
      "text/plain": [
       "50"
      ]
     },
     "execution_count": 4,
     "metadata": {},
     "output_type": "execute_result"
    }
   ],
   "source": [
    "sum(a.*b)"
   ]
  },
  {
   "cell_type": "code",
   "execution_count": 2,
   "id": "3d8a1476",
   "metadata": {},
   "outputs": [
    {
     "data": {
      "text/plain": [
       "2×2 Matrix{Float64}:\n",
       " 11.0  10.0\n",
       "  0.0   1.0"
      ]
     },
     "execution_count": 2,
     "metadata": {},
     "output_type": "execute_result"
    }
   ],
   "source": [
    "A = [10 9;\n",
    "-1 0]\n",
    "\n",
    "B = ones(2,2)\n",
    "\n",
    "A + B"
   ]
  },
  {
   "cell_type": "code",
   "execution_count": 3,
   "id": "f248e31d",
   "metadata": {},
   "outputs": [
    {
     "data": {
      "text/plain": [
       "5×5 Matrix{Int64}:\n",
       " -1    0  1    0   2\n",
       " -3   -2  3   -2   8\n",
       " -5   -4  5   -4  14\n",
       " -7   -6  7   -6  20\n",
       " -9  -19  9  -19  37"
      ]
     },
     "execution_count": 3,
     "metadata": {},
     "output_type": "execute_result"
    }
   ],
   "source": [
    "A = [1 2; 3 4; 5 6; 7 8; 9 -1]\n",
    "\n",
    "B = [-1 -2 1 -2 4; 0 1 0 1 -1]\n",
    "\n",
    "C = A*B"
   ]
  },
  {
   "cell_type": "code",
   "execution_count": 6,
   "id": "f6e20ce5",
   "metadata": {},
   "outputs": [
    {
     "data": {
      "text/plain": [
       "5×5 Matrix{Int64}:\n",
       " -1    0  1    0   2\n",
       " -3   -2  3   -2   8\n",
       " -5   -4  5   -4  14\n",
       " -7   -6  7   -6  20\n",
       " -9  -19  9  -19  37"
      ]
     },
     "execution_count": 6,
     "metadata": {},
     "output_type": "execute_result"
    }
   ],
   "source": [
    "M = size(A, 1) #行列Aの行数(1を指定すれば行数,2を指定すれば列数)\n",
    "N = size(B, 2)\n",
    "\n",
    "C = [ sum(A[i,:].*B[:,j])\n",
    "    for i in 1:M, j in 1:N\n",
    "    \n",
    "]"
   ]
  },
  {
   "cell_type": "code",
   "execution_count": 4,
   "id": "9616b287",
   "metadata": {},
   "outputs": [
    {
     "data": {
      "text/latex": [
       "\\begin{verbatim}\n",
       "size(A::AbstractArray, [dim])\n",
       "\\end{verbatim}\n",
       "Return a tuple containing the dimensions of \\texttt{A}. Optionally you can specify a dimension to just get the length of that dimension.\n",
       "\n",
       "Note that \\texttt{size} may not be defined for arrays with non-standard indices, in which case \\href{@ref}{\\texttt{axes}} may be useful. See the manual chapter on \\href{@ref man-custom-indices}{arrays with custom indices}.\n",
       "\n",
       "See also: \\href{@ref}{\\texttt{length}}, \\href{@ref}{\\texttt{ndims}}, \\href{@ref}{\\texttt{eachindex}}, \\href{@ref}{\\texttt{sizeof}}.\n",
       "\n",
       "\\section{Examples}\n",
       "\\begin{verbatim}\n",
       "julia> A = fill(1, (2,3,4));\n",
       "\n",
       "julia> size(A)\n",
       "(2, 3, 4)\n",
       "\n",
       "julia> size(A, 2)\n",
       "3\n",
       "\\end{verbatim}\n"
      ],
      "text/markdown": [
       "```\n",
       "size(A::AbstractArray, [dim])\n",
       "```\n",
       "\n",
       "Return a tuple containing the dimensions of `A`. Optionally you can specify a dimension to just get the length of that dimension.\n",
       "\n",
       "Note that `size` may not be defined for arrays with non-standard indices, in which case [`axes`](@ref) may be useful. See the manual chapter on [arrays with custom indices](@ref man-custom-indices).\n",
       "\n",
       "See also: [`length`](@ref), [`ndims`](@ref), [`eachindex`](@ref), [`sizeof`](@ref).\n",
       "\n",
       "# Examples\n",
       "\n",
       "```jldoctest\n",
       "julia> A = fill(1, (2,3,4));\n",
       "\n",
       "julia> size(A)\n",
       "(2, 3, 4)\n",
       "\n",
       "julia> size(A, 2)\n",
       "3\n",
       "```\n"
      ],
      "text/plain": [
       "\u001b[36m  size(A::AbstractArray, [dim])\u001b[39m\n",
       "\n",
       "  Return a tuple containing the dimensions of \u001b[36mA\u001b[39m. Optionally you can specify a\n",
       "  dimension to just get the length of that dimension.\n",
       "\n",
       "  Note that \u001b[36msize\u001b[39m may not be defined for arrays with non-standard indices, in\n",
       "  which case \u001b[36maxes\u001b[39m may be useful. See the manual chapter on arrays with custom\n",
       "  indices.\n",
       "\n",
       "  See also: \u001b[36mlength\u001b[39m, \u001b[36mndims\u001b[39m, \u001b[36meachindex\u001b[39m, \u001b[36msizeof\u001b[39m.\n",
       "\n",
       "\u001b[1m  Examples\u001b[22m\n",
       "\u001b[1m  ≡≡≡≡≡≡≡≡≡≡\u001b[22m\n",
       "\n",
       "\u001b[36m  julia> A = fill(1, (2,3,4));\u001b[39m\n",
       "\u001b[36m  \u001b[39m\n",
       "\u001b[36m  julia> size(A)\u001b[39m\n",
       "\u001b[36m  (2, 3, 4)\u001b[39m\n",
       "\u001b[36m  \u001b[39m\n",
       "\u001b[36m  julia> size(A, 2)\u001b[39m\n",
       "\u001b[36m  3\u001b[39m"
      ]
     },
     "execution_count": 4,
     "metadata": {},
     "output_type": "execute_result"
    }
   ],
   "source": [
    "?size()"
   ]
  },
  {
   "cell_type": "code",
   "execution_count": 5,
   "id": "adb742c9",
   "metadata": {},
   "outputs": [
    {
     "data": {
      "text/latex": [
       "\\begin{verbatim}\n",
       "fill(x, dims::Tuple)\n",
       "fill(x, dims...)\n",
       "\\end{verbatim}\n",
       "Create an array filled with the value \\texttt{x}. For example, \\texttt{fill(1.0, (5,5))} returns a 5×5 array of floats, with each element initialized to \\texttt{1.0}.\n",
       "\n",
       "\\texttt{dims} may be specified as either a tuple or a sequence of arguments. For example, the common idiom \\texttt{fill(x)} creates a zero-dimensional array containing the single value \\texttt{x}.\n",
       "\n",
       "See also: \\href{@ref}{\\texttt{fill!}}, \\href{@ref}{\\texttt{zeros}}, \\href{@ref}{\\texttt{ones}}, \\href{@ref}{\\texttt{similar}}.\n",
       "\n",
       "\\section{Examples}\n",
       "\\begin{verbatim}\n",
       "julia> fill(1.0, (2,3))\n",
       "2×3 Matrix{Float64}:\n",
       " 1.0  1.0  1.0\n",
       " 1.0  1.0  1.0\n",
       "\n",
       "julia> fill(42)\n",
       "0-dimensional Array{Int64, 0}:\n",
       "42\n",
       "\\end{verbatim}\n",
       "If \\texttt{x} is an object reference, all elements will refer to the same object:\n",
       "\n",
       "\\begin{verbatim}\n",
       "julia> A = fill(zeros(2), 2);\n",
       "\n",
       "julia> A[1][1] = 42; # modifies both A[1][1] and A[2][1]\n",
       "\n",
       "julia> A\n",
       "2-element Vector{Vector{Float64}}:\n",
       " [42.0, 0.0]\n",
       " [42.0, 0.0]\n",
       "\\end{verbatim}\n"
      ],
      "text/markdown": [
       "```\n",
       "fill(x, dims::Tuple)\n",
       "fill(x, dims...)\n",
       "```\n",
       "\n",
       "Create an array filled with the value `x`. For example, `fill(1.0, (5,5))` returns a 5×5 array of floats, with each element initialized to `1.0`.\n",
       "\n",
       "`dims` may be specified as either a tuple or a sequence of arguments. For example, the common idiom `fill(x)` creates a zero-dimensional array containing the single value `x`.\n",
       "\n",
       "See also: [`fill!`](@ref), [`zeros`](@ref), [`ones`](@ref), [`similar`](@ref).\n",
       "\n",
       "# Examples\n",
       "\n",
       "```jldoctest\n",
       "julia> fill(1.0, (2,3))\n",
       "2×3 Matrix{Float64}:\n",
       " 1.0  1.0  1.0\n",
       " 1.0  1.0  1.0\n",
       "\n",
       "julia> fill(42)\n",
       "0-dimensional Array{Int64, 0}:\n",
       "42\n",
       "```\n",
       "\n",
       "If `x` is an object reference, all elements will refer to the same object:\n",
       "\n",
       "```jldoctest\n",
       "julia> A = fill(zeros(2), 2);\n",
       "\n",
       "julia> A[1][1] = 42; # modifies both A[1][1] and A[2][1]\n",
       "\n",
       "julia> A\n",
       "2-element Vector{Vector{Float64}}:\n",
       " [42.0, 0.0]\n",
       " [42.0, 0.0]\n",
       "```\n"
      ],
      "text/plain": [
       "\u001b[36m  fill(x, dims::Tuple)\u001b[39m\n",
       "\u001b[36m  fill(x, dims...)\u001b[39m\n",
       "\n",
       "  Create an array filled with the value \u001b[36mx\u001b[39m. For example, \u001b[36mfill(1.0, (5,5))\u001b[39m\n",
       "  returns a 5×5 array of floats, with each element initialized to \u001b[36m1.0\u001b[39m.\n",
       "\n",
       "  \u001b[36mdims\u001b[39m may be specified as either a tuple or a sequence of arguments. For\n",
       "  example, the common idiom \u001b[36mfill(x)\u001b[39m creates a zero-dimensional array\n",
       "  containing the single value \u001b[36mx\u001b[39m.\n",
       "\n",
       "  See also: \u001b[36mfill!\u001b[39m, \u001b[36mzeros\u001b[39m, \u001b[36mones\u001b[39m, \u001b[36msimilar\u001b[39m.\n",
       "\n",
       "\u001b[1m  Examples\u001b[22m\n",
       "\u001b[1m  ≡≡≡≡≡≡≡≡≡≡\u001b[22m\n",
       "\n",
       "\u001b[36m  julia> fill(1.0, (2,3))\u001b[39m\n",
       "\u001b[36m  2×3 Matrix{Float64}:\u001b[39m\n",
       "\u001b[36m   1.0  1.0  1.0\u001b[39m\n",
       "\u001b[36m   1.0  1.0  1.0\u001b[39m\n",
       "\u001b[36m  \u001b[39m\n",
       "\u001b[36m  julia> fill(42)\u001b[39m\n",
       "\u001b[36m  0-dimensional Array{Int64, 0}:\u001b[39m\n",
       "\u001b[36m  42\u001b[39m\n",
       "\n",
       "  If \u001b[36mx\u001b[39m is an object reference, all elements will refer to the same object:\n",
       "\n",
       "\u001b[36m  julia> A = fill(zeros(2), 2);\u001b[39m\n",
       "\u001b[36m  \u001b[39m\n",
       "\u001b[36m  julia> A[1][1] = 42; # modifies both A[1][1] and A[2][1]\u001b[39m\n",
       "\u001b[36m  \u001b[39m\n",
       "\u001b[36m  julia> A\u001b[39m\n",
       "\u001b[36m  2-element Vector{Vector{Float64}}:\u001b[39m\n",
       "\u001b[36m   [42.0, 0.0]\u001b[39m\n",
       "\u001b[36m   [42.0, 0.0]\u001b[39m"
      ]
     },
     "execution_count": 5,
     "metadata": {},
     "output_type": "execute_result"
    }
   ],
   "source": [
    "?fill()"
   ]
  },
  {
   "cell_type": "code",
   "execution_count": 7,
   "id": "8ec81038",
   "metadata": {},
   "outputs": [
    {
     "data": {
      "text/plain": [
       "4×3 adjoint(::Matrix{Int64}) with eltype Int64:\n",
       " 1  1  11\n",
       " 1  1   1\n",
       " 1  1   1\n",
       " 1  1   1"
      ]
     },
     "execution_count": 7,
     "metadata": {},
     "output_type": "execute_result"
    }
   ],
   "source": [
    "A = [1 1 1 1;1 1 1 1;11 1 1 1]\n",
    "\n",
    "A'"
   ]
  },
  {
   "cell_type": "code",
   "execution_count": 8,
   "id": "0c5a2b17",
   "metadata": {},
   "outputs": [
    {
     "data": {
      "text/plain": [
       "7×8 Matrix{Int64}:\n",
       "  3   3   3   3   3   3   3   -333\n",
       "  3   3   3   3   3   3   3   -333\n",
       "  0   0   0   0   0   0   0      0\n",
       "  6   6   6   6   6   6   6   -666\n",
       " -3  -3  -3  -3  -3  -3  -3    333\n",
       "  3   3   3   3   3   3   3   -333\n",
       " 12  12  12  12  12  12  12  -1332"
      ]
     },
     "execution_count": 8,
     "metadata": {},
     "output_type": "execute_result"
    }
   ],
   "source": [
    "a = [1, 1, 0, 2, -1, 1, 4]\n",
    "b = [3, 3 ,3, 3 ,3 ,3 , 3,-333]\n",
    "a*b'"
   ]
  },
  {
   "cell_type": "code",
   "execution_count": 9,
   "id": "dd098af5",
   "metadata": {},
   "outputs": [
    {
     "data": {
      "text/plain": [
       "fa (generic function with 1 method)"
      ]
     },
     "execution_count": 9,
     "metadata": {},
     "output_type": "execute_result"
    }
   ],
   "source": [
    "function fa(x,y)\n",
    "    return 2*x + y\n",
    "end\n"
   ]
  },
  {
   "cell_type": "code",
   "execution_count": 11,
   "id": "b953a007",
   "metadata": {},
   "outputs": [
    {
     "data": {
      "text/plain": [
       "7×8 Matrix{Int64}:\n",
       "  5   5   5   5   5   5   5  -331\n",
       "  5   5   5   5   5   5   5  -331\n",
       "  3   3   3   3   3   3   3  -333\n",
       "  7   7   7   7   7   7   7  -329\n",
       "  1   1   1   1   1   1   1  -335\n",
       "  5   5   5   5   5   5   5  -331\n",
       " 11  11  11  11  11  11  11  -325"
      ]
     },
     "execution_count": 11,
     "metadata": {},
     "output_type": "execute_result"
    }
   ],
   "source": [
    "fa.(a,b')#2aベクトルにbの第i成分を加えたものがbベクトルの要素分の列できる"
   ]
  },
  {
   "cell_type": "code",
   "execution_count": 12,
   "id": "2c26e5fd",
   "metadata": {},
   "outputs": [
    {
     "data": {
      "text/plain": [
       "2×2 Matrix{Float64}:\n",
       " -2.0   1.0\n",
       "  1.5  -0.5"
      ]
     },
     "execution_count": 12,
     "metadata": {},
     "output_type": "execute_result"
    }
   ],
   "source": [
    "A = [1 2; 3 4]\n",
    "\n",
    "inv(A)# 逆行列を作る"
   ]
  },
  {
   "cell_type": "code",
   "execution_count": 13,
   "id": "64ac7bfe",
   "metadata": {},
   "outputs": [
    {
     "data": {
      "text/plain": [
       "3×3 Matrix{Float64}:\n",
       "  1.9803   1.9803  -2.61065\n",
       " -1.2607  -1.2607   1.9803\n",
       " -1.2607  -2.2607   1.9803"
      ]
     },
     "execution_count": 13,
     "metadata": {},
     "output_type": "execute_result"
    }
   ],
   "source": [
    "A = [pi pi 1;0 1 -1; 2 pi 0]\n",
    "B = inv(A)"
   ]
  },
  {
   "cell_type": "code",
   "execution_count": 14,
   "id": "52ea1e3e",
   "metadata": {},
   "outputs": [
    {
     "data": {
      "text/plain": [
       "3×3 Matrix{Float64}:\n",
       "  1.0          -4.44089e-16  0.0\n",
       "  0.0           1.0          0.0\n",
       " -4.44089e-16  -4.44089e-16  1.0"
      ]
     },
     "execution_count": 14,
     "metadata": {},
     "output_type": "execute_result"
    }
   ],
   "source": [
    "A* B"
   ]
  },
  {
   "cell_type": "code",
   "execution_count": 15,
   "id": "75a0d4cd",
   "metadata": {},
   "outputs": [
    {
     "data": {
      "text/plain": [
       "3×3 Matrix{Float64}:\n",
       "  1.0          0.0  0.0\n",
       " -4.44089e-16  1.0  0.0\n",
       " -4.44089e-16  0.0  1.0"
      ]
     },
     "execution_count": 15,
     "metadata": {},
     "output_type": "execute_result"
    }
   ],
   "source": [
    "B*A"
   ]
  },
  {
   "cell_type": "code",
   "execution_count": 16,
   "id": "e8ab68b8",
   "metadata": {},
   "outputs": [
    {
     "name": "stdout",
     "output_type": "stream",
     "text": [
      "[1.9803043632356037 1.9803043632356037 -2.610654819706393; -1.2607009129415783 -1.2607009129415783 1.9803043632356037; -1.2607009129415783 -2.2607009129415783 1.9803043632356037]\n"
     ]
    }
   ],
   "source": [
    "println(B)"
   ]
  },
  {
   "cell_type": "code",
   "execution_count": 17,
   "id": "974eebca",
   "metadata": {},
   "outputs": [
    {
     "name": "stdout",
     "output_type": "stream",
     "text": [
      "Rational{Int64}[1//1 0//1 0//1; 0//1 1//1 0//1; 0//1 0//1 1//1]\n",
      "Rational{Int64}[1//1 0//1 0//1; 0//1 1//1 0//1; 0//1 0//1 1//1]\n"
     ]
    }
   ],
   "source": [
    "A = Rational{Int}[25 33 17; 22 7 3; 0 8 -1]\n",
    "B = inv(A)\n",
    "\n",
    "println(A*B)\n",
    "println(B*A)"
   ]
  },
  {
   "cell_type": "code",
   "execution_count": 18,
   "id": "39919663",
   "metadata": {},
   "outputs": [
    {
     "data": {
      "text/plain": [
       "3-element Vector{Rational{Int64}}:\n",
       "   43//981\n",
       "  191//981\n",
       " -434//981"
      ]
     },
     "execution_count": 18,
     "metadata": {},
     "output_type": "execute_result"
    }
   ],
   "source": [
    "sol = B*[0,1,2]"
   ]
  },
  {
   "cell_type": "code",
   "execution_count": 19,
   "id": "b36c6515",
   "metadata": {},
   "outputs": [
    {
     "name": "stderr",
     "output_type": "stream",
     "text": [
      "\u001b[32m\u001b[1m    Updating\u001b[22m\u001b[39m registry at `C:\\Users\\KAMIOKA\\.julia\\registries\\General.toml`\n",
      "\u001b[32m\u001b[1m   Resolving\u001b[22m\u001b[39m package versions...\n",
      "\u001b[32m\u001b[1m    Updating\u001b[22m\u001b[39m `C:\\Users\\KAMIOKA\\.julia\\environments\\v1.7\\Project.toml`\n",
      " \u001b[90m [10745b16] \u001b[39m\u001b[92m+ Statistics\u001b[39m\n",
      "\u001b[32m\u001b[1m    Updating\u001b[22m\u001b[39m `C:\\Users\\KAMIOKA\\.julia\\environments\\v1.7\\Manifest.toml`\n",
      " \u001b[90m [37e2e46d] \u001b[39m\u001b[92m+ LinearAlgebra\u001b[39m\n",
      " \u001b[90m [2f01184e] \u001b[39m\u001b[92m+ SparseArrays\u001b[39m\n",
      " \u001b[90m [10745b16] \u001b[39m\u001b[92m+ Statistics\u001b[39m\n",
      " \u001b[90m [e66e0078] \u001b[39m\u001b[92m+ CompilerSupportLibraries_jll\u001b[39m\n",
      " \u001b[90m [4536629a] \u001b[39m\u001b[92m+ OpenBLAS_jll\u001b[39m\n",
      " \u001b[90m [8e850b90] \u001b[39m\u001b[92m+ libblastrampoline_jll\u001b[39m\n",
      "\u001b[32m\u001b[1mPrecompiling\u001b[22m\u001b[39m project...\n",
      "\u001b[32m  ✓ \u001b[39m\u001b[90mCompilerSupportLibraries_jll\u001b[39m\n",
      "\u001b[32m  ✓ \u001b[39m\u001b[90mOpenBLAS_jll\u001b[39m\n",
      "\u001b[32m  ✓ \u001b[39m\u001b[90mlibblastrampoline_jll\u001b[39m\n",
      "  3 dependencies successfully precompiled in 1 seconds (15 already precompiled)\n"
     ]
    }
   ],
   "source": [
    "using Pkg\n",
    "Pkg.add(\"Statistics\")"
   ]
  },
  {
   "cell_type": "code",
   "execution_count": 20,
   "id": "6d6996af",
   "metadata": {},
   "outputs": [
    {
     "name": "stderr",
     "output_type": "stream",
     "text": [
      "\u001b[32m\u001b[1m   Resolving\u001b[22m\u001b[39m package versions...\n",
      "\u001b[32m\u001b[1m   Installed\u001b[22m\u001b[39m IrrationalConstants ─ v0.1.1\n",
      "\u001b[32m\u001b[1m   Installed\u001b[22m\u001b[39m Rmath ─────────────── v0.7.0\n",
      "\u001b[32m\u001b[1m   Installed\u001b[22m\u001b[39m DataAPI ───────────── v1.9.0\n",
      "\u001b[32m\u001b[1m   Installed\u001b[22m\u001b[39m StatsFuns ─────────── v0.9.18\n",
      "\u001b[32m\u001b[1m   Installed\u001b[22m\u001b[39m QuadGK ────────────── v2.4.2\n",
      "\u001b[32m\u001b[1m   Installed\u001b[22m\u001b[39m PDMats ────────────── v0.11.7\n",
      "\u001b[32m\u001b[1m   Installed\u001b[22m\u001b[39m OrderedCollections ── v1.4.1\n",
      "\u001b[32m\u001b[1m   Installed\u001b[22m\u001b[39m ChainRulesCore ────── v1.14.0\n",
      "\u001b[32m\u001b[1m   Installed\u001b[22m\u001b[39m SpecialFunctions ──── v2.1.4\n",
      "\u001b[32m\u001b[1m   Installed\u001b[22m\u001b[39m Reexport ──────────── v1.2.2\n",
      "\u001b[32m\u001b[1m   Installed\u001b[22m\u001b[39m FillArrays ────────── v0.13.2\n",
      "\u001b[32m\u001b[1m   Installed\u001b[22m\u001b[39m Rmath_jll ─────────── v0.3.0+0\n",
      "\u001b[32m\u001b[1m   Installed\u001b[22m\u001b[39m StatsAPI ──────────── v1.2.2\n",
      "\u001b[32m\u001b[1m   Installed\u001b[22m\u001b[39m Compat ────────────── v3.43.0\n",
      "\u001b[32m\u001b[1m   Installed\u001b[22m\u001b[39m LogExpFunctions ───── v0.3.12\n",
      "\u001b[32m\u001b[1m   Installed\u001b[22m\u001b[39m DataStructures ────── v0.18.11\n",
      "\u001b[32m\u001b[1m   Installed\u001b[22m\u001b[39m OpenSpecFun_jll ───── v0.5.5+0\n",
      "\u001b[32m\u001b[1m   Installed\u001b[22m\u001b[39m InverseFunctions ──── v0.1.3\n",
      "\u001b[32m\u001b[1m   Installed\u001b[22m\u001b[39m SortingAlgorithms ─── v1.0.1\n",
      "\u001b[32m\u001b[1m   Installed\u001b[22m\u001b[39m Missings ──────────── v1.0.2\n",
      "\u001b[32m\u001b[1m   Installed\u001b[22m\u001b[39m StatsBase ─────────── v0.33.16\n",
      "\u001b[32m\u001b[1m   Installed\u001b[22m\u001b[39m ChangesOfVariables ── v0.1.2\n",
      "\u001b[32m\u001b[1m   Installed\u001b[22m\u001b[39m DensityInterface ──── v0.4.0\n",
      "\u001b[32m\u001b[1m   Installed\u001b[22m\u001b[39m Distributions ─────── v0.25.53\n",
      "\u001b[32m\u001b[1m   Installed\u001b[22m\u001b[39m DocStringExtensions ─ v0.8.6\n",
      "\u001b[32m\u001b[1m    Updating\u001b[22m\u001b[39m `C:\\Users\\KAMIOKA\\.julia\\environments\\v1.7\\Project.toml`\n",
      " \u001b[90m [31c24e10] \u001b[39m\u001b[92m+ Distributions v0.25.53\u001b[39m\n",
      "\u001b[32m\u001b[1m    Updating\u001b[22m\u001b[39m `C:\\Users\\KAMIOKA\\.julia\\environments\\v1.7\\Manifest.toml`\n",
      " \u001b[90m [d360d2e6] \u001b[39m\u001b[92m+ ChainRulesCore v1.14.0\u001b[39m\n",
      " \u001b[90m [9e997f8a] \u001b[39m\u001b[92m+ ChangesOfVariables v0.1.2\u001b[39m\n",
      " \u001b[90m [34da2185] \u001b[39m\u001b[92m+ Compat v3.43.0\u001b[39m\n",
      " \u001b[90m [9a962f9c] \u001b[39m\u001b[92m+ DataAPI v1.9.0\u001b[39m\n",
      " \u001b[90m [864edb3b] \u001b[39m\u001b[92m+ DataStructures v0.18.11\u001b[39m\n",
      " \u001b[90m [b429d917] \u001b[39m\u001b[92m+ DensityInterface v0.4.0\u001b[39m\n",
      " \u001b[90m [31c24e10] \u001b[39m\u001b[92m+ Distributions v0.25.53\u001b[39m\n",
      " \u001b[90m [ffbed154] \u001b[39m\u001b[92m+ DocStringExtensions v0.8.6\u001b[39m\n",
      " \u001b[90m [1a297f60] \u001b[39m\u001b[92m+ FillArrays v0.13.2\u001b[39m\n",
      " \u001b[90m [3587e190] \u001b[39m\u001b[92m+ InverseFunctions v0.1.3\u001b[39m\n",
      " \u001b[90m [92d709cd] \u001b[39m\u001b[92m+ IrrationalConstants v0.1.1\u001b[39m\n",
      " \u001b[90m [2ab3a3ac] \u001b[39m\u001b[92m+ LogExpFunctions v0.3.12\u001b[39m\n",
      " \u001b[90m [e1d29d7a] \u001b[39m\u001b[92m+ Missings v1.0.2\u001b[39m\n",
      " \u001b[90m [bac558e1] \u001b[39m\u001b[92m+ OrderedCollections v1.4.1\u001b[39m\n",
      " \u001b[90m [90014a1f] \u001b[39m\u001b[92m+ PDMats v0.11.7\u001b[39m\n",
      " \u001b[90m [1fd47b50] \u001b[39m\u001b[92m+ QuadGK v2.4.2\u001b[39m\n",
      " \u001b[90m [189a3867] \u001b[39m\u001b[92m+ Reexport v1.2.2\u001b[39m\n",
      " \u001b[90m [79098fc4] \u001b[39m\u001b[92m+ Rmath v0.7.0\u001b[39m\n",
      " \u001b[90m [a2af1166] \u001b[39m\u001b[92m+ SortingAlgorithms v1.0.1\u001b[39m\n",
      " \u001b[90m [276daf66] \u001b[39m\u001b[92m+ SpecialFunctions v2.1.4\u001b[39m\n",
      " \u001b[90m [82ae8749] \u001b[39m\u001b[92m+ StatsAPI v1.2.2\u001b[39m\n",
      " \u001b[90m [2913bbd2] \u001b[39m\u001b[92m+ StatsBase v0.33.16\u001b[39m\n",
      " \u001b[90m [4c63d2b9] \u001b[39m\u001b[92m+ StatsFuns v0.9.18\u001b[39m\n",
      " \u001b[90m [efe28fd5] \u001b[39m\u001b[92m+ OpenSpecFun_jll v0.5.5+0\u001b[39m\n",
      " \u001b[90m [f50d1b31] \u001b[39m\u001b[92m+ Rmath_jll v0.3.0+0\u001b[39m\n",
      " \u001b[90m [8bb1440f] \u001b[39m\u001b[92m+ DelimitedFiles\u001b[39m\n",
      " \u001b[90m [8ba89e20] \u001b[39m\u001b[92m+ Distributed\u001b[39m\n",
      " \u001b[90m [1a1011a3] \u001b[39m\u001b[92m+ SharedArrays\u001b[39m\n",
      " \u001b[90m [4607b0f0] \u001b[39m\u001b[92m+ SuiteSparse\u001b[39m\n",
      " \u001b[90m [05823500] \u001b[39m\u001b[92m+ OpenLibm_jll\u001b[39m\n",
      "\u001b[32m\u001b[1mPrecompiling\u001b[22m\u001b[39m project...\n",
      "\u001b[32m  ✓ \u001b[39m\u001b[90mOrderedCollections\u001b[39m\n",
      "\u001b[32m  ✓ \u001b[39m\u001b[90mCompat\u001b[39m\n",
      "\u001b[32m  ✓ \u001b[39m\u001b[90mOpenLibm_jll\u001b[39m\n",
      "\u001b[32m  ✓ \u001b[39m\u001b[90mFillArrays\u001b[39m\n",
      "\u001b[32m  ✓ \u001b[39m\u001b[90mInverseFunctions\u001b[39m\n",
      "\u001b[32m  ✓ \u001b[39m\u001b[90mPDMats\u001b[39m\n",
      "\u001b[32m  ✓ \u001b[39m\u001b[90mReexport\u001b[39m\n",
      "\u001b[32m  ✓ \u001b[39m\u001b[90mDataAPI\u001b[39m\n",
      "\u001b[32m  ✓ \u001b[39m\u001b[90mDocStringExtensions\u001b[39m\n",
      "\u001b[32m  ✓ \u001b[39m\u001b[90mStatsAPI\u001b[39m\n",
      "\u001b[32m  ✓ \u001b[39m\u001b[90mIrrationalConstants\u001b[39m\n",
      "\u001b[32m  ✓ \u001b[39m\u001b[90mRmath_jll\u001b[39m\n",
      "\u001b[32m  ✓ \u001b[39m\u001b[90mChainRulesCore\u001b[39m\n",
      "\u001b[32m  ✓ \u001b[39m\u001b[90mOpenSpecFun_jll\u001b[39m\n",
      "\u001b[32m  ✓ \u001b[39m\u001b[90mMissings\u001b[39m\n",
      "\u001b[32m  ✓ \u001b[39m\u001b[90mDensityInterface\u001b[39m\n",
      "\u001b[32m  ✓ \u001b[39m\u001b[90mChangesOfVariables\u001b[39m\n",
      "\u001b[32m  ✓ \u001b[39m\u001b[90mRmath\u001b[39m\n",
      "\u001b[32m  ✓ \u001b[39m\u001b[90mDataStructures\u001b[39m\n",
      "\u001b[32m  ✓ \u001b[39m\u001b[90mSortingAlgorithms\u001b[39m\n",
      "\u001b[32m  ✓ \u001b[39m\u001b[90mQuadGK\u001b[39m\n",
      "\u001b[32m  ✓ \u001b[39m\u001b[90mLogExpFunctions\u001b[39m\n",
      "\u001b[32m  ✓ \u001b[39m\u001b[90mStatsBase\u001b[39m\n",
      "\u001b[32m  ✓ \u001b[39m\u001b[90mSpecialFunctions\u001b[39m\n",
      "\u001b[32m  ✓ \u001b[39m\u001b[90mStatsFuns\u001b[39m\n",
      "\u001b[32m  ✓ \u001b[39mDistributions\n",
      "  26 dependencies successfully precompiled in 14 seconds (18 already precompiled)\n"
     ]
    }
   ],
   "source": [
    "using Pkg\n",
    "Pkg.add(\"Distributions\")"
   ]
  },
  {
   "cell_type": "code",
   "execution_count": 21,
   "id": "b210fdb6",
   "metadata": {},
   "outputs": [
    {
     "name": "stderr",
     "output_type": "stream",
     "text": [
      "\u001b[32m\u001b[1m   Resolving\u001b[22m\u001b[39m package versions...\n",
      "\u001b[32m\u001b[1m   Installed\u001b[22m\u001b[39m DiffResults ────────── v1.0.3\n",
      "\u001b[32m\u001b[1m   Installed\u001b[22m\u001b[39m MacroTools ─────────── v0.5.9\n",
      "\u001b[32m\u001b[1m   Installed\u001b[22m\u001b[39m NaNMath ────────────── v0.3.7\n",
      "\u001b[32m\u001b[1m   Installed\u001b[22m\u001b[39m ForwardDiff ────────── v0.10.25\n",
      "\u001b[32m\u001b[1m   Installed\u001b[22m\u001b[39m DiffRules ──────────── v1.10.0\n",
      "\u001b[32m\u001b[1m   Installed\u001b[22m\u001b[39m CommonSubexpressions ─ v0.3.0\n",
      "\u001b[32m\u001b[1m   Installed\u001b[22m\u001b[39m StaticArrays ───────── v1.4.3\n",
      "\u001b[32m\u001b[1m    Updating\u001b[22m\u001b[39m `C:\\Users\\KAMIOKA\\.julia\\environments\\v1.7\\Project.toml`\n",
      " \u001b[90m [f6369f11] \u001b[39m\u001b[92m+ ForwardDiff v0.10.25\u001b[39m\n",
      "\u001b[32m\u001b[1m    Updating\u001b[22m\u001b[39m `C:\\Users\\KAMIOKA\\.julia\\environments\\v1.7\\Manifest.toml`\n",
      " \u001b[90m [bbf7d656] \u001b[39m\u001b[92m+ CommonSubexpressions v0.3.0\u001b[39m\n",
      " \u001b[90m [163ba53b] \u001b[39m\u001b[92m+ DiffResults v1.0.3\u001b[39m\n",
      " \u001b[90m [b552c78f] \u001b[39m\u001b[92m+ DiffRules v1.10.0\u001b[39m\n",
      " \u001b[90m [f6369f11] \u001b[39m\u001b[92m+ ForwardDiff v0.10.25\u001b[39m\n",
      " \u001b[90m [1914dd2f] \u001b[39m\u001b[92m+ MacroTools v0.5.9\u001b[39m\n",
      " \u001b[90m [77ba4419] \u001b[39m\u001b[92m+ NaNMath v0.3.7\u001b[39m\n",
      " \u001b[90m [90137ffa] \u001b[39m\u001b[92m+ StaticArrays v1.4.3\u001b[39m\n",
      "\u001b[32m\u001b[1mPrecompiling\u001b[22m\u001b[39m project...\n",
      "\u001b[32m  ✓ \u001b[39m\u001b[90mNaNMath\u001b[39m\n",
      "\u001b[32m  ✓ \u001b[39m\u001b[90mDiffRules\u001b[39m\n",
      "\u001b[32m  ✓ \u001b[39m\u001b[90mMacroTools\u001b[39m\n",
      "\u001b[32m  ✓ \u001b[39m\u001b[90mCommonSubexpressions\u001b[39m\n",
      "\u001b[32m  ✓ \u001b[39m\u001b[90mStaticArrays\u001b[39m\n",
      "\u001b[32m  ✓ \u001b[39m\u001b[90mDiffResults\u001b[39m\n",
      "\u001b[32m  ✓ \u001b[39mForwardDiff\n",
      "  7 dependencies successfully precompiled in 9 seconds (44 already precompiled)\n"
     ]
    }
   ],
   "source": [
    "using Pkg\n",
    "Pkg.add(\"ForwardDiff\")"
   ]
  },
  {
   "cell_type": "code",
   "execution_count": 22,
   "id": "19526fd4",
   "metadata": {},
   "outputs": [
    {
     "name": "stderr",
     "output_type": "stream",
     "text": [
      "\u001b[32m\u001b[1m   Resolving\u001b[22m\u001b[39m package versions...\n",
      "\u001b[32m\u001b[1m   Installed\u001b[22m\u001b[39m LaTeXStrings ────── v1.3.0\n",
      "\u001b[32m\u001b[1m   Installed\u001b[22m\u001b[39m FixedPointNumbers ─ v0.8.4\n",
      "\u001b[32m\u001b[1m   Installed\u001b[22m\u001b[39m PyPlot ──────────── v2.10.0\n",
      "\u001b[32m\u001b[1m   Installed\u001b[22m\u001b[39m PyCall ──────────── v1.93.1\n",
      "\u001b[32m\u001b[1m   Installed\u001b[22m\u001b[39m ColorTypes ──────── v0.11.0\n",
      "\u001b[32m\u001b[1m   Installed\u001b[22m\u001b[39m Colors ──────────── v0.12.8\n",
      "\u001b[32m\u001b[1m    Updating\u001b[22m\u001b[39m `C:\\Users\\KAMIOKA\\.julia\\environments\\v1.7\\Project.toml`\n",
      " \u001b[90m [d330b81b] \u001b[39m\u001b[92m+ PyPlot v2.10.0\u001b[39m\n",
      "\u001b[32m\u001b[1m    Updating\u001b[22m\u001b[39m `C:\\Users\\KAMIOKA\\.julia\\environments\\v1.7\\Manifest.toml`\n",
      " \u001b[90m [3da002f7] \u001b[39m\u001b[92m+ ColorTypes v0.11.0\u001b[39m\n",
      " \u001b[90m [5ae59095] \u001b[39m\u001b[92m+ Colors v0.12.8\u001b[39m\n",
      " \u001b[90m [53c48c17] \u001b[39m\u001b[92m+ FixedPointNumbers v0.8.4\u001b[39m\n",
      " \u001b[90m [b964fa9f] \u001b[39m\u001b[92m+ LaTeXStrings v1.3.0\u001b[39m\n",
      " \u001b[90m [438e738f] \u001b[39m\u001b[92m+ PyCall v1.93.1\u001b[39m\n",
      " \u001b[90m [d330b81b] \u001b[39m\u001b[92m+ PyPlot v2.10.0\u001b[39m\n",
      "\u001b[32m\u001b[1m    Building\u001b[22m\u001b[39m PyCall → `C:\\Users\\KAMIOKA\\.julia\\scratchspaces\\44cfe95a-1eb2-52ea-b672-e2afdf69b78f\\1fc929f47d7c151c839c5fc1375929766fb8edcc\\build.log`\n",
      "\u001b[32m\u001b[1mPrecompiling\u001b[22m\u001b[39m project...\n",
      "\u001b[32m  ✓ \u001b[39m\u001b[90mLaTeXStrings\u001b[39m\n",
      "\u001b[32m  ✓ \u001b[39m\u001b[90mFixedPointNumbers\u001b[39m\n",
      "\u001b[32m  ✓ \u001b[39m\u001b[90mPyCall\u001b[39m\n",
      "\u001b[32m  ✓ \u001b[39m\u001b[90mColorTypes\u001b[39m\n",
      "\u001b[32m  ✓ \u001b[39m\u001b[90mColors\u001b[39m\n",
      "\u001b[32m  ✓ \u001b[39mPyPlot\n",
      "  6 dependencies successfully precompiled in 14 seconds (51 already precompiled)\n"
     ]
    }
   ],
   "source": [
    "using Pkg\n",
    "Pkg.add(\"PyPlot\")"
   ]
  },
  {
   "cell_type": "code",
   "execution_count": 23,
   "id": "517feac2",
   "metadata": {},
   "outputs": [],
   "source": [
    "using Statistics"
   ]
  },
  {
   "cell_type": "code",
   "execution_count": 24,
   "id": "1e2e41f7",
   "metadata": {},
   "outputs": [
    {
     "data": {
      "text/plain": [
       "6-element Vector{Float64}:\n",
       " 0.4589496761775024\n",
       " 0.1887061133729392\n",
       " 0.06719905784210123\n",
       " 0.3497024756400058\n",
       " 0.6768024004069034\n",
       " 0.9492728071127509"
      ]
     },
     "execution_count": 24,
     "metadata": {},
     "output_type": "execute_result"
    }
   ],
   "source": [
    "X = rand(6)"
   ]
  },
  {
   "cell_type": "code",
   "execution_count": 25,
   "id": "7234a90f",
   "metadata": {},
   "outputs": [
    {
     "data": {
      "text/plain": [
       "7×6 Matrix{Float64}:\n",
       " 0.540228  0.76869    0.542698   0.595646  0.263831   0.391369\n",
       " 0.668557  0.568978   0.401509   0.746729  0.637885   0.262056\n",
       " 0.716257  0.893164   0.591763   0.294244  0.899313   0.61332\n",
       " 0.813448  0.501498   0.0805046  0.547523  0.271914   0.189238\n",
       " 0.463458  0.571151   0.298695   0.531364  0.15064    0.126009\n",
       " 0.651866  0.0305966  0.0788359  0.839842  0.97633    0.299488\n",
       " 0.797139  0.659773   0.288367   0.758036  0.0490223  0.0948134"
      ]
     },
     "execution_count": 25,
     "metadata": {},
     "output_type": "execute_result"
    }
   ],
   "source": [
    "Y = rand(7,6)"
   ]
  },
  {
   "cell_type": "code",
   "execution_count": 26,
   "id": "4ffacc68",
   "metadata": {},
   "outputs": [
    {
     "data": {
      "text/latex": [
       "\\begin{verbatim}\n",
       "println([io::IO], xs...)\n",
       "\\end{verbatim}\n",
       "Print (using \\href{@ref}{\\texttt{print}}) \\texttt{xs} followed by a newline. If \\texttt{io} is not supplied, prints to \\href{@ref}{\\texttt{stdout}}.\n",
       "\n",
       "See also \\href{@ref}{\\texttt{printstyled}} to add colors etc.\n",
       "\n",
       "\\section{Examples}\n",
       "\\begin{verbatim}\n",
       "julia> println(\"Hello, world\")\n",
       "Hello, world\n",
       "\n",
       "julia> io = IOBuffer();\n",
       "\n",
       "julia> println(io, \"Hello\", ',', \" world.\")\n",
       "\n",
       "julia> String(take!(io))\n",
       "\"Hello, world.\\n\"\n",
       "\\end{verbatim}\n"
      ],
      "text/markdown": [
       "```\n",
       "println([io::IO], xs...)\n",
       "```\n",
       "\n",
       "Print (using [`print`](@ref)) `xs` followed by a newline. If `io` is not supplied, prints to [`stdout`](@ref).\n",
       "\n",
       "See also [`printstyled`](@ref) to add colors etc.\n",
       "\n",
       "# Examples\n",
       "\n",
       "```jldoctest\n",
       "julia> println(\"Hello, world\")\n",
       "Hello, world\n",
       "\n",
       "julia> io = IOBuffer();\n",
       "\n",
       "julia> println(io, \"Hello\", ',', \" world.\")\n",
       "\n",
       "julia> String(take!(io))\n",
       "\"Hello, world.\\n\"\n",
       "```\n"
      ],
      "text/plain": [
       "\u001b[36m  println([io::IO], xs...)\u001b[39m\n",
       "\n",
       "  Print (using \u001b[36mprint\u001b[39m) \u001b[36mxs\u001b[39m followed by a newline. If \u001b[36mio\u001b[39m is not supplied, prints\n",
       "  to \u001b[36mstdout\u001b[39m.\n",
       "\n",
       "  See also \u001b[36mprintstyled\u001b[39m to add colors etc.\n",
       "\n",
       "\u001b[1m  Examples\u001b[22m\n",
       "\u001b[1m  ≡≡≡≡≡≡≡≡≡≡\u001b[22m\n",
       "\n",
       "\u001b[36m  julia> println(\"Hello, world\")\u001b[39m\n",
       "\u001b[36m  Hello, world\u001b[39m\n",
       "\u001b[36m  \u001b[39m\n",
       "\u001b[36m  julia> io = IOBuffer();\u001b[39m\n",
       "\u001b[36m  \u001b[39m\n",
       "\u001b[36m  julia> println(io, \"Hello\", ',', \" world.\")\u001b[39m\n",
       "\u001b[36m  \u001b[39m\n",
       "\u001b[36m  julia> String(take!(io))\u001b[39m\n",
       "\u001b[36m  \"Hello, world.\\n\"\u001b[39m"
      ]
     },
     "execution_count": 26,
     "metadata": {},
     "output_type": "execute_result"
    }
   ],
   "source": [
    "?println()"
   ]
  },
  {
   "cell_type": "code",
   "execution_count": 27,
   "id": "4991125d",
   "metadata": {},
   "outputs": [
    {
     "name": "stdout",
     "output_type": "stream",
     "text": [
      "2.690632530552203\n",
      "0.44843875509203385\n"
     ]
    }
   ],
   "source": [
    "println(sum(X))\n",
    "println(mean(X))"
   ]
  },
  {
   "cell_type": "code",
   "execution_count": 29,
   "id": "9c89b50b",
   "metadata": {},
   "outputs": [
    {
     "name": "stdout",
     "output_type": "stream",
     "text": [
      "20.465790349292433\n",
      "[4.650952876356073 3.993850307048417 2.2823730102863715 4.313384734685962 3.248936019337495 1.9762934015781175]\n",
      "[3.102462433608009; 3.285715721744718; 4.00806153956175; 2.4041248233910375; 2.14131653725316; 2.8769586635936077; 2.647150630140155;;]\n",
      "0.4872807226022008\n",
      "[0.664421839479439 0.5705500438640596 0.32605328718376736 0.6161978192408517 0.4641337170482136 0.28232762879687395]\n",
      "[0.5170770722680015; 0.547619286957453; 0.6680102565936249; 0.4006874705651729; 0.3568860895421933; 0.4794931105989346; 0.4411917716900258;;]\n"
     ]
    }
   ],
   "source": [
    "println(sum(Y))\n",
    "println(sum(Y, dims=1))#各行の和（つまり,R^n*mにおけるnベクトルを足し合わせている）\n",
    "println(sum(Y, dims=2))#各列の和\n",
    "println(mean(Y))\n",
    "println(mean(Y, dims=1))\n",
    "println(mean(Y, dims=2))"
   ]
  },
  {
   "cell_type": "code",
   "execution_count": 33,
   "id": "677803f9",
   "metadata": {},
   "outputs": [
    {
     "name": "stdout",
     "output_type": "stream",
     "text": [
      "search: \u001b[0m\u001b[1mD\u001b[22m\u001b[0m\u001b[1mi\u001b[22m\u001b[0m\u001b[1mm\u001b[22m\u001b[0m\u001b[1ms\u001b[22m n\u001b[0m\u001b[1md\u001b[22m\u001b[0m\u001b[1mi\u001b[22m\u001b[0m\u001b[1mm\u001b[22m\u001b[0m\u001b[1ms\u001b[22m \u001b[0m\u001b[1mD\u001b[22m\u001b[0m\u001b[1mi\u001b[22m\u001b[0m\u001b[1mm\u001b[22men\u001b[0m\u001b[1ms\u001b[22mionMismatch permute\u001b[0m\u001b[1md\u001b[22m\u001b[0m\u001b[1mi\u001b[22m\u001b[0m\u001b[1mm\u001b[22m\u001b[0m\u001b[1ms\u001b[22m permute\u001b[0m\u001b[1md\u001b[22m\u001b[0m\u001b[1mi\u001b[22m\u001b[0m\u001b[1mm\u001b[22m\u001b[0m\u001b[1ms\u001b[22m! Permute\u001b[0m\u001b[1md\u001b[22mD\u001b[0m\u001b[1mi\u001b[22m\u001b[0m\u001b[1mm\u001b[22m\u001b[0m\u001b[1ms\u001b[22mArray\n",
      "\n",
      "Couldn't find \u001b[36mdims\u001b[39m\n",
      "Perhaps you meant Dims, ndims, diff, div, dump, cis, im, time, Dict or digits\n"
     ]
    },
    {
     "data": {
      "text/latex": [
       "No documentation found.\n",
       "\n",
       "Binding \\texttt{dims} does not exist.\n",
       "\n"
      ],
      "text/markdown": [
       "No documentation found.\n",
       "\n",
       "Binding `dims` does not exist.\n"
      ],
      "text/plain": [
       "  No documentation found.\n",
       "\n",
       "  Binding \u001b[36mdims\u001b[39m does not exist."
      ]
     },
     "execution_count": 33,
     "metadata": {},
     "output_type": "execute_result"
    }
   ],
   "source": [
    "?dims"
   ]
  },
  {
   "cell_type": "markdown",
   "id": "66a899c8",
   "metadata": {},
   "source": [
    "![号泣議員・野々村容疑者はなぜ選挙で当選できたのか？ | ＤＯＬ特別 ...](https://encrypted-tbn0.gstatic.com/images?q=tbn:ANd9GcQyyNWKFIBhXg0Nl-Um7BehTAGbLlCC9VRB8Q&usqp=CAU)"
   ]
  },
  {
   "cell_type": "markdown",
   "id": "b3f71707",
   "metadata": {},
   "source": []
  },
  {
   "cell_type": "code",
   "execution_count": null,
   "id": "3256751b",
   "metadata": {},
   "outputs": [],
   "source": []
  },
  {
   "cell_type": "code",
   "execution_count": null,
   "id": "8023ae92",
   "metadata": {},
   "outputs": [],
   "source": []
  },
  {
   "cell_type": "code",
   "execution_count": null,
   "id": "b816b29d",
   "metadata": {},
   "outputs": [],
   "source": []
  },
  {
   "cell_type": "code",
   "execution_count": null,
   "id": "ebddfe78",
   "metadata": {},
   "outputs": [],
   "source": []
  },
  {
   "cell_type": "markdown",
   "id": "9ec36af9",
   "metadata": {},
   "source": [
    "# 合計\n",
    "**合計(summary)** sはその名の通り,データの各要素を単純に足し合わせる.\n",
    "$$\n",
    "    s = \\sum_{n=1}^{N} x_{n}\n",
    "$$"
   ]
  },
  {
   "cell_type": "markdown",
   "id": "74a30cab",
   "metadata": {},
   "source": [
    "# 平均\n",
    "\n",
    "**平均(mean)** $\\mu$ は合計をデータの数で割ったもの.\n",
    "$$\n",
    "  \\mu = \\dfrac{1}{N}s\n",
    "$$"
   ]
  },
  {
   "cell_type": "markdown",
   "id": "938b8ca2",
   "metadata": {},
   "source": [
    "# 分散\n",
    "\n",
    "**分散(variance)** $v$　は,データの散らばり具合を定量化したもの.\n",
    "\n",
    "各データの平均値との差の平方の総和をN-1で割る分散を不偏分散(標本分散),Nで割る分散を母分散(母集団のデータがあるときに使う)という.\n",
    "\n",
    "一般に,標本から得る分散は値が小さくなる傾向にあり,母分散とかけ離れる値になる.そこを補正するためにN-1で割るという.\n",
    "\n",
    "var(X)で,得られる.\n",
    "$$\n",
    "  v = \\dfrac{1}{N-1} \\sum_{n=1}^{N}( x_{n} - \\mu )^2\n",
    "$$"
   ]
  },
  {
   "cell_type": "markdown",
   "id": "7636d194",
   "metadata": {},
   "source": [
    "# 標準偏差\n",
    "**標準偏差(standard deviation)**$\\sigma$は,分散の正の平方根.\n",
    "\n",
    "std(X)で求まる.\n",
    "$$\n",
    "  \\sigma = \\sqrt{v}\n",
    "$$"
   ]
  },
  {
   "cell_type": "markdown",
   "id": "e2f54a3d",
   "metadata": {},
   "source": [
    "# 共分散\n",
    "\n",
    "**共分散(covariance)**　は,2つのデータの散らばり具合を表す.\n",
    "$$\n",
    "  Cov_{i,j} = \\dfrac{1}{N-1} \\sum_{n=1}^{N} (x_{n,i}-\\mu_{i})(x_{n,j}-\\mu_{j})\n",
    "$$"
   ]
  },
  {
   "cell_type": "code",
   "execution_count": 1,
   "id": "0130560f",
   "metadata": {},
   "outputs": [
    {
     "data": {
      "text/plain": [
       "2×3 Matrix{Float64}:\n",
       " 0.391869  0.986875  0.47156\n",
       " 0.37284   0.269745  0.397907"
      ]
     },
     "execution_count": 1,
     "metadata": {},
     "output_type": "execute_result"
    }
   ],
   "source": [
    "D=rand(2,3)"
   ]
  },
  {
   "cell_type": "code",
   "execution_count": 7,
   "id": "ced9c86b",
   "metadata": {},
   "outputs": [
    {
     "name": "stdout",
     "output_type": "stream",
     "text": [
      "[0.0001810416214578496 0.006822946010561139 0.0007007569221657909; 0.006822946010561139 0.25713751284463954 0.026409543882578178; 0.0007007569221657909 0.026409543882578178 0.00271241640463103]\n",
      "[0.10432190493009258 -0.02089808384794618; -0.02089808384794618 0.004613743410963931]\n"
     ]
    }
   ],
   "source": [
    "a1 = cov(D, dims =1)# dimsはどこを指定している？各成分はどことどこの共分散？\n",
    "a2 = cov(D, dims =2)\n",
    "println(a1)\n",
    "println(a2)"
   ]
  },
  {
   "cell_type": "code",
   "execution_count": 4,
   "id": "26789bda",
   "metadata": {},
   "outputs": [
    {
     "data": {
      "text/latex": [
       "No documentation found.\n",
       "\n",
       "Binding \\texttt{cov} does not exist.\n",
       "\n"
      ],
      "text/markdown": [
       "No documentation found.\n",
       "\n",
       "Binding `cov` does not exist.\n"
      ],
      "text/plain": [
       "  No documentation found.\n",
       "\n",
       "  Binding \u001b[36mcov\u001b[39m does not exist."
      ]
     },
     "execution_count": 4,
     "metadata": {},
     "output_type": "execute_result"
    }
   ],
   "source": [
    "?cov()"
   ]
  },
  {
   "cell_type": "code",
   "execution_count": 5,
   "id": "7fe14771",
   "metadata": {},
   "outputs": [],
   "source": [
    "using Statistics"
   ]
  },
  {
   "cell_type": "code",
   "execution_count": 8,
   "id": "bfd2e8d6",
   "metadata": {},
   "outputs": [
    {
     "data": {
      "text/plain": [
       "0.033059850255963565"
      ]
     },
     "execution_count": 8,
     "metadata": {},
     "output_type": "execute_result"
    }
   ],
   "source": [
    "a4 = 1/2 * var(D[:,2])^2"
   ]
  },
  {
   "cell_type": "code",
   "execution_count": 9,
   "id": "7c7dbc6c",
   "metadata": {},
   "outputs": [],
   "source": [
    "using Distributions"
   ]
  },
  {
   "cell_type": "code",
   "execution_count": 10,
   "id": "7b7968b3",
   "metadata": {},
   "outputs": [
    {
     "data": {
      "text/plain": [
       "10000-element Vector{Float64}:\n",
       " -1.0386079389381258\n",
       "  1.1223158463327465\n",
       "  3.2397177455019204\n",
       " -0.049440836015488765\n",
       "  0.2748748656363418\n",
       " -3.712126787533867\n",
       "  1.657956402585845\n",
       "  1.944319815646832\n",
       "  3.5926791573334538\n",
       "  2.057093384579896\n",
       "  1.1826892196380405\n",
       " -0.4504751106362692\n",
       " -3.082999443185389\n",
       "  ⋮\n",
       "  1.888695162403069\n",
       " -0.532520906863132\n",
       "  2.2028553555447217\n",
       "  3.5266286200947157\n",
       " -1.2740349552498658\n",
       "  3.3192585935639114\n",
       "  1.6021895947605207\n",
       "  2.5166916401790966\n",
       "  1.438675827994627\n",
       "  4.69889728105543\n",
       "  3.0327066541513332\n",
       " -2.5798500396723805"
      ]
     },
     "execution_count": 10,
     "metadata": {},
     "output_type": "execute_result"
    }
   ],
   "source": [
    "μ = 1.5\n",
    "σ = 2.0\n",
    "Z = rand(Normal(μ,σ), 10000)#平均と標準偏差を指定した正規分布に従い１万のデータを生成\n",
    "Z"
   ]
  },
  {
   "cell_type": "code",
   "execution_count": 12,
   "id": "02ace289",
   "metadata": {},
   "outputs": [
    {
     "name": "stdout",
     "output_type": "stream",
     "text": [
      "1.5255468273715331\n",
      "2.004882967805838\n"
     ]
    }
   ],
   "source": [
    "println(mean(Z))\n",
    "println(std(Z))"
   ]
  },
  {
   "cell_type": "code",
   "execution_count": 13,
   "id": "1fdf4511",
   "metadata": {},
   "outputs": [
    {
     "name": "stdout",
     "output_type": "stream",
     "text": [
      "Collecting package metadata (current_repodata.json): ...working... done\r\n",
      "Solving environment: ...working... done\r\n",
      "\r\n",
      "## Package Plan ##\r\n",
      "\r\n",
      "  environment location: C:\\Users\\KAMIOKA\\.julia\\conda\\3\r\n",
      "\r\n",
      "  added / updated specs:\r\n",
      "    - matplotlib\r\n",
      "\r\n",
      "\r\n",
      "The following packages will be downloaded:\r\n",
      "\r\n",
      "    package                    |            build\r\n",
      "    ---------------------------|-----------------\r\n",
      "    brotli-1.0.9               |       h8ffe710_7          18 KB  conda-forge\r\n",
      "    brotli-bin-1.0.9           |       h8ffe710_7          21 KB  conda-forge\r\n",
      "    cycler-0.11.0              |     pyhd8ed1ab_0          10 KB  conda-forge\r\n",
      "    fonttools-4.32.0           |   py39hb82d6ee_0         1.5 MB  conda-forge\r\n",
      "    freetype-2.10.4            |       h546665d_1         489 KB  conda-forge\r\n",
      "    jbig-2.1                   |    h8d14728_2003          45 KB  conda-forge\r\n",
      "    kiwisolver-1.4.2           |   py39h2e07f2f_1          61 KB  conda-forge\r\n",
      "    lcms2-2.12                 |       h2a16943_0         882 KB  conda-forge\r\n",
      "    lerc-3.0                   |       h0e60522_0         140 KB  conda-forge\r\n",
      "    libbrotlicommon-1.0.9      |       h8ffe710_7          67 KB  conda-forge\r\n",
      "    libbrotlidec-1.0.9         |       h8ffe710_7          33 KB  conda-forge\r\n",
      "    libbrotlienc-1.0.9         |       h8ffe710_7         716 KB  conda-forge\r\n",
      "    libdeflate-1.10            |       h8ffe710_0          69 KB  conda-forge\r\n",
      "    libtiff-4.3.0              |       hc4061b1_3         1.1 MB  conda-forge\r\n",
      "    libwebp-1.2.2              |       h57928b3_0          11 KB  conda-forge\r\n",
      "    libwebp-base-1.2.2         |       h8ffe710_1         393 KB  conda-forge\r\n",
      "    libxcb-1.13                |    hcd874cb_1004         1.3 MB  conda-forge\r\n",
      "    lz4-c-1.9.3                |       h8ffe710_1         135 KB  conda-forge\r\n",
      "    m2w64-gcc-libgfortran-5.3.0|                6         342 KB  conda-forge\r\n",
      "    m2w64-gcc-libs-5.3.0       |                7         520 KB  conda-forge\r\n",
      "    m2w64-gcc-libs-core-5.3.0  |                7         214 KB  conda-forge\r\n",
      "    m2w64-gmp-6.1.0            |                2         726 KB  conda-forge\r\n",
      "    m2w64-libwinpthread-git-5.0.0.4634.697f757|                2          31 KB  conda-forge\r\n",
      "    matplotlib-3.5.1           |   py39hcbf5309_0           7 KB  conda-forge\r\n",
      "    matplotlib-base-3.5.1      |   py39h581301d_0         7.3 MB  conda-forge\r\n",
      "    msys2-conda-epoch-20160418 |                1           3 KB  conda-forge\r\n",
      "    munkres-1.1.4              |     pyh9f0ad1d_0          12 KB  conda-forge\r\n",
      "    openjpeg-2.4.0             |       hb211442_1         238 KB  conda-forge\r\n",
      "    pillow-9.1.0               |   py39ha53f419_2        44.9 MB  conda-forge\r\n",
      "    pthread-stubs-0.4          |    hcd874cb_1001           6 KB  conda-forge\r\n",
      "    unicodedata2-14.0.0        |   py39hb82d6ee_1         492 KB  conda-forge\r\n",
      "    xorg-libxau-1.0.9          |       hcd874cb_0          57 KB  conda-forge\r\n",
      "    xorg-libxdmcp-1.1.3        |       hcd874cb_0          66 KB  conda-forge\r\n",
      "    zstd-1.5.2                 |       h6255e5f_0        1010 KB  conda-forge\r\n",
      "    ------------------------------------------------------------\r\n",
      "                                           Total:        62.7 MB\r\n",
      "\r\n",
      "The following NEW packages will be INSTALLED:\r\n",
      "\r\n",
      "  brotli             conda-forge/win-64::brotli-1.0.9-h8ffe710_7\r\n",
      "  brotli-bin         conda-forge/win-64::brotli-bin-1.0.9-h8ffe710_7\r\n",
      "  cycler             conda-forge/noarch::cycler-0.11.0-pyhd8ed1ab_0\r\n",
      "  fonttools          conda-forge/win-64::fonttools-4.32.0-py39hb82d6ee_0\r\n",
      "  freetype           conda-forge/win-64::freetype-2.10.4-h546665d_1\r\n",
      "  jbig               conda-forge/win-64::jbig-2.1-h8d14728_2003\r\n",
      "  kiwisolver         conda-forge/win-64::kiwisolver-1.4.2-py39h2e07f2f_1\r\n",
      "  lcms2              conda-forge/win-64::lcms2-2.12-h2a16943_0\r\n",
      "  lerc               conda-forge/win-64::lerc-3.0-h0e60522_0\r\n",
      "  libbrotlicommon    conda-forge/win-64::libbrotlicommon-1.0.9-h8ffe710_7\r\n",
      "  libbrotlidec       conda-forge/win-64::libbrotlidec-1.0.9-h8ffe710_7\r\n",
      "  libbrotlienc       conda-forge/win-64::libbrotlienc-1.0.9-h8ffe710_7\r\n",
      "  libdeflate         conda-forge/win-64::libdeflate-1.10-h8ffe710_0\r\n",
      "  libtiff            conda-forge/win-64::libtiff-4.3.0-hc4061b1_3\r\n",
      "  libwebp            conda-forge/win-64::libwebp-1.2.2-h57928b3_0\r\n",
      "  libwebp-base       conda-forge/win-64::libwebp-base-1.2.2-h8ffe710_1\r\n",
      "  libxcb             conda-forge/win-64::libxcb-1.13-hcd874cb_1004\r\n",
      "  lz4-c              conda-forge/win-64::lz4-c-1.9.3-h8ffe710_1\r\n",
      "  m2w64-gcc-libgfor~ conda-forge/win-64::m2w64-gcc-libgfortran-5.3.0-6\r\n",
      "  m2w64-gcc-libs     conda-forge/win-64::m2w64-gcc-libs-5.3.0-7\r\n",
      "  m2w64-gcc-libs-co~ conda-forge/win-64::m2w64-gcc-libs-core-5.3.0-7\r\n",
      "  m2w64-gmp          conda-forge/win-64::m2w64-gmp-6.1.0-2\r\n",
      "  m2w64-libwinpthre~ conda-forge/win-64::m2w64-libwinpthread-git-5.0.0.4634.697f757-2\r\n",
      "  matplotlib         conda-forge/win-64::matplotlib-3.5.1-py39hcbf5309_0\r\n",
      "  matplotlib-base    conda-forge/win-64::matplotlib-base-3.5.1-py39h581301d_0\r\n",
      "  msys2-conda-epoch  conda-forge/win-64::msys2-conda-epoch-20160418-1\r\n",
      "  munkres            conda-forge/noarch::munkres-1.1.4-pyh9f0ad1d_0\r\n",
      "  openjpeg           conda-forge/win-64::openjpeg-2.4.0-hb211442_1\r\n",
      "  pillow             conda-forge/win-64::pillow-9.1.0-py39ha53f419_2\r\n",
      "  pthread-stubs      conda-forge/win-64::pthread-stubs-0.4-hcd874cb_1001\r\n",
      "  unicodedata2       conda-forge/win-64::unicodedata2-14.0.0-py39hb82d6ee_1\r\n",
      "  xorg-libxau        conda-forge/win-64::xorg-libxau-1.0.9-hcd874cb_0\r\n",
      "  xorg-libxdmcp      conda-forge/win-64::xorg-libxdmcp-1.1.3-hcd874cb_0\r\n",
      "  zstd               conda-forge/win-64::zstd-1.5.2-h6255e5f_0\r\n",
      "\r\n",
      "\r\n",
      "\r\n",
      "Downloading and Extracting Packages\r\n",
      "\r",
      "lz4-c-1.9.3          | 135 KB    |            |   0% \r",
      "lz4-c-1.9.3          | 135 KB    | ########## | 100% \r",
      "lz4-c-1.9.3          | 135 KB    | ########## | 100% \r\n",
      "\r",
      "matplotlib-base-3.5. | 7.3 MB    |            |   0% \r",
      "matplotlib-base-3.5. | 7.3 MB    | #######4   |  74% \r",
      "matplotlib-base-3.5. | 7.3 MB    | ########## | 100% \r\n",
      "\r",
      "m2w64-gmp-6.1.0      | 726 KB    |            |   0% \r",
      "m2w64-gmp-6.1.0      | 726 KB    | ########## | 100% \r",
      "m2w64-gmp-6.1.0      | 726 KB    | ########## | 100% \r\n",
      "\r",
      "xorg-libxdmcp-1.1.3  | 66 KB     |            |   0% \r",
      "xorg-libxdmcp-1.1.3  | 66 KB     | ########## | 100% \r\n",
      "\r",
      "zstd-1.5.2           | 1010 KB   |            |   0% \r",
      "zstd-1.5.2           | 1010 KB   | ########## | 100% \r",
      "zstd-1.5.2           | 1010 KB   | ########## | 100% \r\n",
      "\r",
      "munkres-1.1.4        | 12 KB     |            |   0% \r",
      "munkres-1.1.4        | 12 KB     | ########## | 100% \r\n",
      "\r",
      "jbig-2.1             | 45 KB     |            |   0% \r",
      "jbig-2.1             | 45 KB     | ########## | 100% \r\n",
      "\r",
      "libdeflate-1.10      | 69 KB     |            |   0% \r",
      "libdeflate-1.10      | 69 KB     | ########## | 100% \r\n",
      "\r",
      "libbrotlienc-1.0.9   | 716 KB    |            |   0% \r",
      "libbrotlienc-1.0.9   | 716 KB    | ########## | 100% \r",
      "libbrotlienc-1.0.9   | 716 KB    | ########## | 100% \r\n",
      "\r",
      "m2w64-gcc-libs-core- | 214 KB    |            |   0% \r",
      "m2w64-gcc-libs-core- | 214 KB    | ########## | 100% \r\n",
      "\r",
      "lerc-3.0             | 140 KB    |            |   0% \r",
      "lerc-3.0             | 140 KB    | ########## | 100% \r\n",
      "\r",
      "m2w64-gcc-libs-5.3.0 | 520 KB    |            |   0% \r",
      "m2w64-gcc-libs-5.3.0 | 520 KB    | ########## | 100% \r",
      "m2w64-gcc-libs-5.3.0 | 520 KB    | ########## | 100% \r\n",
      "\r",
      "unicodedata2-14.0.0  | 492 KB    |            |   0% \r",
      "unicodedata2-14.0.0  | 492 KB    | ########## | 100% \r\n",
      "\r",
      "libtiff-4.3.0        | 1.1 MB    |            |   0% \r",
      "libtiff-4.3.0        | 1.1 MB    | ########## | 100% \r",
      "libtiff-4.3.0        | 1.1 MB    | ########## | 100% \r\n",
      "\r",
      "xorg-libxau-1.0.9    | 57 KB     |            |   0% \r",
      "xorg-libxau-1.0.9    | 57 KB     | ########## | 100% \r\n",
      "\r",
      "fonttools-4.32.0     | 1.5 MB    |            |   0% \r",
      "fonttools-4.32.0     | 1.5 MB    | ########## | 100% \r",
      "fonttools-4.32.0     | 1.5 MB    | ########## | 100% \r\n",
      "\r",
      "cycler-0.11.0        | 10 KB     |            |   0% \r",
      "cycler-0.11.0        | 10 KB     | ########## | 100% \r\n",
      "\r",
      "m2w64-gcc-libgfortra | 342 KB    |            |   0% \r",
      "m2w64-gcc-libgfortra | 342 KB    | ########## | 100% \r\n",
      "\r",
      "pthread-stubs-0.4    | 6 KB      |            |   0% \r",
      "pthread-stubs-0.4    | 6 KB      | ########## | 100% \r\n",
      "\r",
      "freetype-2.10.4      | 489 KB    |            |   0% \r",
      "freetype-2.10.4      | 489 KB    | ########## | 100% \r",
      "freetype-2.10.4      | 489 KB    | ########## | 100% \r\n",
      "\r",
      "libwebp-base-1.2.2   | 393 KB    |            |   0% \r",
      "libwebp-base-1.2.2   | 393 KB    | ########## | 100% \r\n",
      "\r",
      "matplotlib-3.5.1     | 7 KB      |            |   0% \r",
      "matplotlib-3.5.1     | 7 KB      | ########## | 100% \r\n",
      "\r",
      "kiwisolver-1.4.2     | 61 KB     |            |   0% \r",
      "kiwisolver-1.4.2     | 61 KB     | ########## | 100% \r\n",
      "\r",
      "brotli-1.0.9         | 18 KB     |            |   0% \r",
      "brotli-1.0.9         | 18 KB     | ########## | 100% \r\n",
      "\r",
      "libbrotlidec-1.0.9   | 33 KB     |            |   0% \r",
      "libbrotlidec-1.0.9   | 33 KB     | ########## | 100% \r\n",
      "\r",
      "openjpeg-2.4.0       | 238 KB    |            |   0% \r",
      "openjpeg-2.4.0       | 238 KB    | ########## | 100% \r\n",
      "\r",
      "brotli-bin-1.0.9     | 21 KB     |            |   0% \r",
      "brotli-bin-1.0.9     | 21 KB     | ########## | 100% \r\n",
      "\r",
      "libxcb-1.13          | 1.3 MB    |            |   0% \r",
      "libxcb-1.13          | 1.3 MB    | ########## | 100% \r",
      "libxcb-1.13          | 1.3 MB    | ########## | 100% \r\n",
      "\r",
      "lcms2-2.12           | 882 KB    |            |   0% \r",
      "lcms2-2.12           | 882 KB    | ########## | 100% \r",
      "lcms2-2.12           | 882 KB    | ########## | 100% \r\n",
      "\r",
      "libwebp-1.2.2        | 11 KB     |            |   0% \r",
      "libwebp-1.2.2        | 11 KB     | ########## | 100% \r\n",
      "\r",
      "msys2-conda-epoch-20 | 3 KB      |            |   0% \r",
      "msys2-conda-epoch-20 | 3 KB      | ########## | 100% \r\n",
      "\r",
      "libbrotlicommon-1.0. | 67 KB     |            |   0% \r",
      "libbrotlicommon-1.0. | 67 KB     | ########## | 100% \r\n",
      "\r",
      "m2w64-libwinpthread- | 31 KB     |            |   0% \r",
      "m2w64-libwinpthread- | 31 KB     | ########## | 100% \r\n"
     ]
    },
    {
     "name": "stdout",
     "output_type": "stream",
     "text": [
      "\r",
      "pillow-9.1.0         | 44.9 MB   |            |   0% \r",
      "pillow-9.1.0         | 44.9 MB   | #1         |  11% \r",
      "pillow-9.1.0         | 44.9 MB   | ##7        |  27% \r",
      "pillow-9.1.0         | 44.9 MB   | ####3      |  43% \r",
      "pillow-9.1.0         | 44.9 MB   | #####9     |  60% \r",
      "pillow-9.1.0         | 44.9 MB   | #######5   |  76% \r",
      "pillow-9.1.0         | 44.9 MB   | #########1 |  92% \r",
      "pillow-9.1.0         | 44.9 MB   | ########## | 100% \r\n",
      "Preparing transaction: ...working... done\r\n",
      "Verifying transaction: ...working... done\r\n",
      "Executing transaction: ...working... done\r\n"
     ]
    },
    {
     "name": "stderr",
     "output_type": "stream",
     "text": [
      "┌ Info: Installing matplotlib via the Conda matplotlib package...\n",
      "└ @ PyCall C:\\Users\\KAMIOKA\\.julia\\packages\\PyCall\\7a7w0\\src\\PyCall.jl:711\n",
      "┌ Info: Running `conda install -y matplotlib` in root environment\n",
      "└ @ Conda C:\\Users\\KAMIOKA\\.julia\\packages\\Conda\\x2UxR\\src\\Conda.jl:127\n"
     ]
    }
   ],
   "source": [
    "using PyPlot"
   ]
  },
  {
   "cell_type": "markdown",
   "id": "2e0a312c",
   "metadata": {},
   "source": [
    "# 数値微分"
   ]
  },
  {
   "cell_type": "code",
   "execution_count": 14,
   "id": "57377dbe",
   "metadata": {},
   "outputs": [
    {
     "data": {
      "text/plain": [
       "f (generic function with 1 method)"
      ]
     },
     "execution_count": 14,
     "metadata": {},
     "output_type": "execute_result"
    }
   ],
   "source": [
    "function f(x)\n",
    "    return-(x-1)*(x+1)\n",
    "end"
   ]
  },
  {
   "cell_type": "code",
   "execution_count": 18,
   "id": "3688e9d9",
   "metadata": {},
   "outputs": [
    {
     "data": {
      "image/png": "[encoded data removed]",
      "text/plain": [
       "Figure(PyObject <Figure size 640x480 with 2 Axes>)"
      ]
     },
     "metadata": {},
     "output_type": "display_data"
    },
    {
     "data": {
      "text/plain": [
       "PyObject Text(0.5, 1.0, 'derivative f(x)')"
      ]
     },
     "execution_count": 18,
     "metadata": {},
     "output_type": "execute_result"
    }
   ],
   "source": [
    "h = 1.0e-10\n",
    "\n",
    "f2(a) = (f(a+h) - f(a))/h\n",
    "\n",
    "xs = range(-1,1,length=100)\n",
    "\n",
    "fig,axes = subplots(2,1)\n",
    "axes[1].plot(xs,f.(xs),\"b\")\n",
    "axes[1].grid()\n",
    "axes[1].set_xlabel(\"x\")\n",
    "axes[1].set_ylabel(\"f(x)\")\n",
    "axes[1].set_title(\"function f(x)\")\n",
    "\n",
    "axes[2].plot(xs,f2.(xs),\"r\")\n",
    "axes[2].grid()\n",
    "axes[2].set_xlabel(\"x\")\n",
    "axes[2].set_ylabel(\"f2(x)\")\n",
    "axes[1].set_title(\"derivative f(x)\")"
   ]
  },
  {
   "cell_type": "code",
   "execution_count": 30,
   "id": "025d11e7",
   "metadata": {},
   "outputs": [
    {
     "ename": "LoadError",
     "evalue": "MethodError: no method matching +(::Vector{Float64}, ::Float64)\nFor element-wise addition, use broadcasting with dot syntax: array .+ scalar\n\u001b[0mClosest candidates are:\n\u001b[0m  +(::Any, ::Any, \u001b[91m::Any\u001b[39m, \u001b[91m::Any...\u001b[39m) at C:\\Users\\KAMIOKA\\AppData\\Local\\Programs\\Julia-1.7.2\\share\\julia\\base\\operators.jl:655\n\u001b[0m  +(::AbstractVector, \u001b[91m::MvNormal\u001b[39m) at C:\\Users\\KAMIOKA\\.julia\\packages\\Distributions\\O4ZJg\\src\\multivariate\\mvnormal.jl:295\n\u001b[0m  +(\u001b[91m::ChainRulesCore.AbstractThunk\u001b[39m, ::Any) at C:\\Users\\KAMIOKA\\.julia\\packages\\ChainRulesCore\\RbX5a\\src\\tangent_arithmetic.jl:122\n\u001b[0m  ...",
     "output_type": "error",
     "traceback": [
      "MethodError: no method matching +(::Vector{Float64}, ::Float64)\nFor element-wise addition, use broadcasting with dot syntax: array .+ scalar\n\u001b[0mClosest candidates are:\n\u001b[0m  +(::Any, ::Any, \u001b[91m::Any\u001b[39m, \u001b[91m::Any...\u001b[39m) at C:\\Users\\KAMIOKA\\AppData\\Local\\Programs\\Julia-1.7.2\\share\\julia\\base\\operators.jl:655\n\u001b[0m  +(::AbstractVector, \u001b[91m::MvNormal\u001b[39m) at C:\\Users\\KAMIOKA\\.julia\\packages\\Distributions\\O4ZJg\\src\\multivariate\\mvnormal.jl:295\n\u001b[0m  +(\u001b[91m::ChainRulesCore.AbstractThunk\u001b[39m, ::Any) at C:\\Users\\KAMIOKA\\.julia\\packages\\ChainRulesCore\\RbX5a\\src\\tangent_arithmetic.jl:122\n\u001b[0m  ...",
      "",
      "Stacktrace:",
      " [1] f2(a::Vector{Float64})",
      "   @ Main .\\In[18]:3",
      " [2] (::var\"#19#20\")(::Tuple{Float64, Float64})",
      "   @ Main .\\none:0",
      " [3] iterate",
      "   @ .\\generator.jl:47 [inlined]",
      " [4] collect(itr::Base.Generator{Base.Iterators.ProductIterator{Tuple{StepRangeLen{Float64, Base.TwicePrecision{Float64}, Base.TwicePrecision{Float64}, Int64}, StepRangeLen{Float64, Base.TwicePrecision{Float64}, Base.TwicePrecision{Float64}, Int64}}}, var\"#19#20\"})",
      "   @ Base .\\array.jl:724",
      " [5] top-level scope",
      "   @ In[30]:11",
      " [6] eval",
      "   @ .\\boot.jl:373 [inlined]",
      " [7] include_string(mapexpr::typeof(REPL.softscope), mod::Module, code::String, filename::String)",
      "   @ Base .\\loading.jl:1196"
     ]
    }
   ],
   "source": [
    "L =10\n",
    "\n",
    "xs1 = range(-1,1,length=L)\n",
    "xs2 = range(-1,1,length=L)\n",
    "\n",
    "f3(x) = -(x .+ 1)'*(x .- 1)\n",
    "\n",
    "∇f(x) =-2x\n",
    "\n",
    "fig,axes = subplots(1,2)\n",
    "cs =axes[1].contour(xs1,xs2 ,[f2([x1,x2]) for x1 in xs1, x2 in xs2])#ここでエラーが起きている　contourの引数がおかしい？\n",
    "axes[1].clabel(cs, inline =true)\n",
    "axes[1].set_xlabel(\"x1\")\n",
    "axes[1].set_ylabel(\"x2\")\n",
    "axes[1].set_title(\"f3(x)\")\n",
    "\n",
    "vec1= [∇f([x1,x2])[1] for x1 in xs1, x2 in xs2]\n",
    "vec2= [∇f([x1,x2])[2] for x1 in xs1, x2 in xs2]\n",
    "axes[2]quiver(repeat(xs1,1,L),repeat(xs2',L,1),vec1,vec2)\n",
    "axes[2].set_xlabel(\"x1\")\n",
    "axes[2].set_ylabel(\"x2\")\n",
    "axes[2].set_title(\"∇f(x)\")"
   ]
  },
  {
   "cell_type": "code",
   "execution_count": 31,
   "id": "0e5e9c9d",
   "metadata": {},
   "outputs": [],
   "source": [
    "using ForwardDiff"
   ]
  },
  {
   "cell_type": "code",
   "execution_count": 44,
   "id": "ff4e6990",
   "metadata": {},
   "outputs": [
    {
     "data": {
      "image/png": "[encoded data removed]",
      "text/plain": [
       "Figure(PyObject <Figure size 640x480 with 2 Axes>)"
      ]
     },
     "metadata": {},
     "output_type": "display_data"
    },
    {
     "data": {
      "text/plain": [
       "PyObject Text(0.5, 1.0, 'derivative f(x)')"
      ]
     },
     "execution_count": 44,
     "metadata": {},
     "output_type": "execute_result"
    }
   ],
   "source": [
    "f(x) = -(x+1)*(x-1)\n",
    "\n",
    "fp(x) = ForwardDiff.derivative(f,x)\n",
    "\n",
    "xs = range(-1,1,length=20)\n",
    "\n",
    "fig,axes=subplots(2,1)\n",
    "\n",
    "axes[1].plot(xs, f.(xs),\"b\")\n",
    "axes[1].grid()\n",
    "axes[1].set_xlabel(\"x\"), axes[1].set_ylabel(\"y\")\n",
    "axes[1].set_title(\"function f(x)\")\n",
    "\n",
    "axes[2].plot(xs, fp.(xs),\"b\")#\"b\"で青色のグラフを描画\n",
    "axes[2].grid()\n",
    "axes[2].set_xlabel(\"x\"), axes[1].set_ylabel(\"y\")\n",
    "axes[2].set_title(\"derivative f(x)\")"
   ]
  },
  {
   "cell_type": "code",
   "execution_count": 33,
   "id": "8811f248",
   "metadata": {},
   "outputs": [
    {
     "name": "stdout",
     "output_type": "stream",
     "text": [
      "search: \u001b[0m\u001b[1m'\u001b[22m \u001b[0m\u001b[1m'\u001b[22m'\n",
      "\n"
     ]
    },
    {
     "data": {
      "text/latex": [
       "\\begin{verbatim}\n",
       "A'\n",
       "adjoint(A)\n",
       "\\end{verbatim}\n",
       "Lazy adjoint (conjugate transposition). Note that \\texttt{adjoint} is applied recursively to elements.\n",
       "\n",
       "For number types, \\texttt{adjoint} returns the complex conjugate, and therefore it is equivalent to the identity function for real numbers.\n",
       "\n",
       "This operation is intended for linear algebra usage - for general data manipulation see \\href{@ref Base.permutedims}{\\texttt{permutedims}}.\n",
       "\n",
       "\\section{Examples}\n",
       "\\begin{verbatim}\n",
       "julia> A = [3+2im 9+2im; 8+7im  4+6im]\n",
       "2×2 Matrix{Complex{Int64}}:\n",
       " 3+2im  9+2im\n",
       " 8+7im  4+6im\n",
       "\n",
       "julia> adjoint(A)\n",
       "2×2 adjoint(::Matrix{Complex{Int64}}) with eltype Complex{Int64}:\n",
       " 3-2im  8-7im\n",
       " 9-2im  4-6im\n",
       "\n",
       "julia> x = [3, 4im]\n",
       "2-element Vector{Complex{Int64}}:\n",
       " 3 + 0im\n",
       " 0 + 4im\n",
       "\n",
       "julia> x'x\n",
       "25 + 0im\n",
       "\\end{verbatim}\n"
      ],
      "text/markdown": [
       "```\n",
       "A'\n",
       "adjoint(A)\n",
       "```\n",
       "\n",
       "Lazy adjoint (conjugate transposition). Note that `adjoint` is applied recursively to elements.\n",
       "\n",
       "For number types, `adjoint` returns the complex conjugate, and therefore it is equivalent to the identity function for real numbers.\n",
       "\n",
       "This operation is intended for linear algebra usage - for general data manipulation see [`permutedims`](@ref Base.permutedims).\n",
       "\n",
       "# Examples\n",
       "\n",
       "```jldoctest\n",
       "julia> A = [3+2im 9+2im; 8+7im  4+6im]\n",
       "2×2 Matrix{Complex{Int64}}:\n",
       " 3+2im  9+2im\n",
       " 8+7im  4+6im\n",
       "\n",
       "julia> adjoint(A)\n",
       "2×2 adjoint(::Matrix{Complex{Int64}}) with eltype Complex{Int64}:\n",
       " 3-2im  8-7im\n",
       " 9-2im  4-6im\n",
       "\n",
       "julia> x = [3, 4im]\n",
       "2-element Vector{Complex{Int64}}:\n",
       " 3 + 0im\n",
       " 0 + 4im\n",
       "\n",
       "julia> x'x\n",
       "25 + 0im\n",
       "```\n"
      ],
      "text/plain": [
       "\u001b[36m  A'\u001b[39m\n",
       "\u001b[36m  adjoint(A)\u001b[39m\n",
       "\n",
       "  Lazy adjoint (conjugate transposition). Note that \u001b[36madjoint\u001b[39m is applied\n",
       "  recursively to elements.\n",
       "\n",
       "  For number types, \u001b[36madjoint\u001b[39m returns the complex conjugate, and therefore it is\n",
       "  equivalent to the identity function for real numbers.\n",
       "\n",
       "  This operation is intended for linear algebra usage - for general data\n",
       "  manipulation see \u001b[36mpermutedims\u001b[39m.\n",
       "\n",
       "\u001b[1m  Examples\u001b[22m\n",
       "\u001b[1m  ≡≡≡≡≡≡≡≡≡≡\u001b[22m\n",
       "\n",
       "\u001b[36m  julia> A = [3+2im 9+2im; 8+7im  4+6im]\u001b[39m\n",
       "\u001b[36m  2×2 Matrix{Complex{Int64}}:\u001b[39m\n",
       "\u001b[36m   3+2im  9+2im\u001b[39m\n",
       "\u001b[36m   8+7im  4+6im\u001b[39m\n",
       "\u001b[36m  \u001b[39m\n",
       "\u001b[36m  julia> adjoint(A)\u001b[39m\n",
       "\u001b[36m  2×2 adjoint(::Matrix{Complex{Int64}}) with eltype Complex{Int64}:\u001b[39m\n",
       "\u001b[36m   3-2im  8-7im\u001b[39m\n",
       "\u001b[36m   9-2im  4-6im\u001b[39m\n",
       "\u001b[36m  \u001b[39m\n",
       "\u001b[36m  julia> x = [3, 4im]\u001b[39m\n",
       "\u001b[36m  2-element Vector{Complex{Int64}}:\u001b[39m\n",
       "\u001b[36m   3 + 0im\u001b[39m\n",
       "\u001b[36m   0 + 4im\u001b[39m\n",
       "\u001b[36m  \u001b[39m\n",
       "\u001b[36m  julia> x'x\u001b[39m\n",
       "\u001b[36m  25 + 0im\u001b[39m"
      ]
     },
     "execution_count": 33,
     "metadata": {},
     "output_type": "execute_result"
    }
   ],
   "source": [
    "? '"
   ]
  },
  {
   "cell_type": "code",
   "execution_count": 45,
   "id": "e013671f",
   "metadata": {},
   "outputs": [
    {
     "data": {
      "text/latex": [
       "\\begin{verbatim}\n",
       "range(start, stop, length)\n",
       "range(start, stop; length, step)\n",
       "range(start; length, stop, step)\n",
       "range(;start, length, stop, step)\n",
       "\\end{verbatim}\n",
       "Construct a specialized array with evenly spaced elements and optimized storage (an \\href{@ref}{\\texttt{AbstractRange}}) from the arguments. Mathematically a range is uniquely determined by any three of \\texttt{start}, \\texttt{step}, \\texttt{stop} and \\texttt{length}. Valid invocations of range are:\n",
       "\n",
       "\\begin{itemize}\n",
       "\\item Call \\texttt{range} with any three of \\texttt{start}, \\texttt{step}, \\texttt{stop}, \\texttt{length}.\n",
       "\n",
       "\n",
       "\\item Call \\texttt{range} with two of \\texttt{start}, \\texttt{stop}, \\texttt{length}. In this case \\texttt{step} will be assumed\n",
       "\n",
       "\\end{itemize}\n",
       "to be one. If both arguments are Integers, a \\href{@ref}{\\texttt{UnitRange}} will be returned.\n",
       "\n",
       "\\section{Examples}\n",
       "\\begin{verbatim}\n",
       "julia> range(1, length=100)\n",
       "1:100\n",
       "\n",
       "julia> range(1, stop=100)\n",
       "1:100\n",
       "\n",
       "julia> range(1, step=5, length=100)\n",
       "1:5:496\n",
       "\n",
       "julia> range(1, step=5, stop=100)\n",
       "1:5:96\n",
       "\n",
       "julia> range(1, 10, length=101)\n",
       "1.0:0.09:10.0\n",
       "\n",
       "julia> range(1, 100, step=5)\n",
       "1:5:96\n",
       "\n",
       "julia> range(stop=10, length=5)\n",
       "6:10\n",
       "\n",
       "julia> range(stop=10, step=1, length=5)\n",
       "6:1:10\n",
       "\n",
       "julia> range(start=1, step=1, stop=10)\n",
       "1:1:10\n",
       "\\end{verbatim}\n",
       "If \\texttt{length} is not specified and \\texttt{stop - start} is not an integer multiple of \\texttt{step}, a range that ends before \\texttt{stop} will be produced.\n",
       "\n",
       "\\begin{verbatim}\n",
       "julia> range(1, 3.5, step=2)\n",
       "1.0:2.0:3.0\n",
       "\\end{verbatim}\n",
       "Special care is taken to ensure intermediate values are computed rationally. To avoid this induced overhead, see the \\href{@ref}{\\texttt{LinRange}} constructor.\n",
       "\n",
       "\\begin{quote}\n",
       "\\textbf{compat}\n",
       "\n",
       "Julia 1.1\n",
       "\n",
       "\\texttt{stop} as a positional argument requires at least Julia 1.1.\n",
       "\n",
       "\\end{quote}\n",
       "\\begin{quote}\n",
       "\\textbf{compat}\n",
       "\n",
       "Julia 1.7\n",
       "\n",
       "The versions without keyword arguments and \\texttt{start} as a keyword argument require at least Julia 1.7.\n",
       "\n",
       "\\end{quote}\n",
       "\\rule{\\textwidth}{1pt}\n",
       "\\begin{verbatim}\n",
       "range(start::T; stop::T, length=100) where T<:Colorant\n",
       "range(start::T, stop::T; length=100) where T<:Colorant\n",
       "\\end{verbatim}\n",
       "Generates N (=\\texttt{length}) >2 colors in a linearly interpolated ramp from \\texttt{start} to\\texttt{stop}, inclusive, returning an \\texttt{Array} of colors.\n",
       "\n",
       "\\begin{quote}\n",
       "\\textbf{compat}\n",
       "\n",
       "Julia 1.1\n",
       "\n",
       "\\texttt{stop} as a positional argument requires at least Julia 1.1.\n",
       "\n",
       "\\end{quote}\n"
      ],
      "text/markdown": [
       "```\n",
       "range(start, stop, length)\n",
       "range(start, stop; length, step)\n",
       "range(start; length, stop, step)\n",
       "range(;start, length, stop, step)\n",
       "```\n",
       "\n",
       "Construct a specialized array with evenly spaced elements and optimized storage (an [`AbstractRange`](@ref)) from the arguments. Mathematically a range is uniquely determined by any three of `start`, `step`, `stop` and `length`. Valid invocations of range are:\n",
       "\n",
       "  * Call `range` with any three of `start`, `step`, `stop`, `length`.\n",
       "  * Call `range` with two of `start`, `stop`, `length`. In this case `step` will be assumed\n",
       "\n",
       "to be one. If both arguments are Integers, a [`UnitRange`](@ref) will be returned.\n",
       "\n",
       "# Examples\n",
       "\n",
       "```jldoctest\n",
       "julia> range(1, length=100)\n",
       "1:100\n",
       "\n",
       "julia> range(1, stop=100)\n",
       "1:100\n",
       "\n",
       "julia> range(1, step=5, length=100)\n",
       "1:5:496\n",
       "\n",
       "julia> range(1, step=5, stop=100)\n",
       "1:5:96\n",
       "\n",
       "julia> range(1, 10, length=101)\n",
       "1.0:0.09:10.0\n",
       "\n",
       "julia> range(1, 100, step=5)\n",
       "1:5:96\n",
       "\n",
       "julia> range(stop=10, length=5)\n",
       "6:10\n",
       "\n",
       "julia> range(stop=10, step=1, length=5)\n",
       "6:1:10\n",
       "\n",
       "julia> range(start=1, step=1, stop=10)\n",
       "1:1:10\n",
       "```\n",
       "\n",
       "If `length` is not specified and `stop - start` is not an integer multiple of `step`, a range that ends before `stop` will be produced.\n",
       "\n",
       "```jldoctest\n",
       "julia> range(1, 3.5, step=2)\n",
       "1.0:2.0:3.0\n",
       "```\n",
       "\n",
       "Special care is taken to ensure intermediate values are computed rationally. To avoid this induced overhead, see the [`LinRange`](@ref) constructor.\n",
       "\n",
       "!!! compat \"Julia 1.1\"\n",
       "    `stop` as a positional argument requires at least Julia 1.1.\n",
       "\n",
       "\n",
       "!!! compat \"Julia 1.7\"\n",
       "    The versions without keyword arguments and `start` as a keyword argument require at least Julia 1.7.\n",
       "\n",
       "\n",
       "---\n",
       "\n",
       "```\n",
       "range(start::T; stop::T, length=100) where T<:Colorant\n",
       "range(start::T, stop::T; length=100) where T<:Colorant\n",
       "```\n",
       "\n",
       "Generates N (=`length`) >2 colors in a linearly interpolated ramp from `start` to`stop`, inclusive, returning an `Array` of colors.\n",
       "\n",
       "!!! compat \"Julia 1.1\"\n",
       "    `stop` as a positional argument requires at least Julia 1.1.\n",
       "\n"
      ],
      "text/plain": [
       "\u001b[36m  range(start, stop, length)\u001b[39m\n",
       "\u001b[36m  range(start, stop; length, step)\u001b[39m\n",
       "\u001b[36m  range(start; length, stop, step)\u001b[39m\n",
       "\u001b[36m  range(;start, length, stop, step)\u001b[39m\n",
       "\n",
       "  Construct a specialized array with evenly spaced elements and optimized\n",
       "  storage (an \u001b[36mAbstractRange\u001b[39m) from the arguments. Mathematically a range is\n",
       "  uniquely determined by any three of \u001b[36mstart\u001b[39m, \u001b[36mstep\u001b[39m, \u001b[36mstop\u001b[39m and \u001b[36mlength\u001b[39m. Valid\n",
       "  invocations of range are:\n",
       "\n",
       "    •  Call \u001b[36mrange\u001b[39m with any three of \u001b[36mstart\u001b[39m, \u001b[36mstep\u001b[39m, \u001b[36mstop\u001b[39m, \u001b[36mlength\u001b[39m.\n",
       "\n",
       "    •  Call \u001b[36mrange\u001b[39m with two of \u001b[36mstart\u001b[39m, \u001b[36mstop\u001b[39m, \u001b[36mlength\u001b[39m. In this case \u001b[36mstep\u001b[39m will\n",
       "       be assumed\n",
       "\n",
       "  to be one. If both arguments are Integers, a \u001b[36mUnitRange\u001b[39m will be returned.\n",
       "\n",
       "\u001b[1m  Examples\u001b[22m\n",
       "\u001b[1m  ≡≡≡≡≡≡≡≡≡≡\u001b[22m\n",
       "\n",
       "\u001b[36m  julia> range(1, length=100)\u001b[39m\n",
       "\u001b[36m  1:100\u001b[39m\n",
       "\u001b[36m  \u001b[39m\n",
       "\u001b[36m  julia> range(1, stop=100)\u001b[39m\n",
       "\u001b[36m  1:100\u001b[39m\n",
       "\u001b[36m  \u001b[39m\n",
       "\u001b[36m  julia> range(1, step=5, length=100)\u001b[39m\n",
       "\u001b[36m  1:5:496\u001b[39m\n",
       "\u001b[36m  \u001b[39m\n",
       "\u001b[36m  julia> range(1, step=5, stop=100)\u001b[39m\n",
       "\u001b[36m  1:5:96\u001b[39m\n",
       "\u001b[36m  \u001b[39m\n",
       "\u001b[36m  julia> range(1, 10, length=101)\u001b[39m\n",
       "\u001b[36m  1.0:0.09:10.0\u001b[39m\n",
       "\u001b[36m  \u001b[39m\n",
       "\u001b[36m  julia> range(1, 100, step=5)\u001b[39m\n",
       "\u001b[36m  1:5:96\u001b[39m\n",
       "\u001b[36m  \u001b[39m\n",
       "\u001b[36m  julia> range(stop=10, length=5)\u001b[39m\n",
       "\u001b[36m  6:10\u001b[39m\n",
       "\u001b[36m  \u001b[39m\n",
       "\u001b[36m  julia> range(stop=10, step=1, length=5)\u001b[39m\n",
       "\u001b[36m  6:1:10\u001b[39m\n",
       "\u001b[36m  \u001b[39m\n",
       "\u001b[36m  julia> range(start=1, step=1, stop=10)\u001b[39m\n",
       "\u001b[36m  1:1:10\u001b[39m\n",
       "\n",
       "  If \u001b[36mlength\u001b[39m is not specified and \u001b[36mstop - start\u001b[39m is not an integer multiple of\n",
       "  \u001b[36mstep\u001b[39m, a range that ends before \u001b[36mstop\u001b[39m will be produced.\n",
       "\n",
       "\u001b[36m  julia> range(1, 3.5, step=2)\u001b[39m\n",
       "\u001b[36m  1.0:2.0:3.0\u001b[39m\n",
       "\n",
       "  Special care is taken to ensure intermediate values are computed rationally.\n",
       "  To avoid this induced overhead, see the \u001b[36mLinRange\u001b[39m constructor.\n",
       "\n",
       "\u001b[39m\u001b[1m  │ \u001b[22m\u001b[39m\u001b[1mJulia 1.1\u001b[22m\n",
       "\u001b[39m\u001b[1m  │\u001b[22m\n",
       "\u001b[39m\u001b[1m  │\u001b[22m  \u001b[36mstop\u001b[39m as a positional argument requires at least Julia 1.1.\n",
       "\n",
       "\u001b[39m\u001b[1m  │ \u001b[22m\u001b[39m\u001b[1mJulia 1.7\u001b[22m\n",
       "\u001b[39m\u001b[1m  │\u001b[22m\n",
       "\u001b[39m\u001b[1m  │\u001b[22m  The versions without keyword arguments and \u001b[36mstart\u001b[39m as a keyword\n",
       "\u001b[39m\u001b[1m  │\u001b[22m  argument require at least Julia 1.7.\n",
       "\n",
       "  ────────────────────────────────────────────────────────────────────────────\n",
       "\n",
       "\u001b[36m  range(start::T; stop::T, length=100) where T<:Colorant\u001b[39m\n",
       "\u001b[36m  range(start::T, stop::T; length=100) where T<:Colorant\u001b[39m\n",
       "\n",
       "  Generates N (=\u001b[36mlength\u001b[39m) >2 colors in a linearly interpolated ramp from \u001b[36mstart\u001b[39m\n",
       "  to\u001b[36mstop\u001b[39m, inclusive, returning an \u001b[36mArray\u001b[39m of colors.\n",
       "\n",
       "\u001b[39m\u001b[1m  │ \u001b[22m\u001b[39m\u001b[1mJulia 1.1\u001b[22m\n",
       "\u001b[39m\u001b[1m  │\u001b[22m\n",
       "\u001b[39m\u001b[1m  │\u001b[22m  \u001b[36mstop\u001b[39m as a positional argument requires at least Julia 1.1."
      ]
     },
     "execution_count": 45,
     "metadata": {},
     "output_type": "execute_result"
    }
   ],
   "source": [
    "?range()"
   ]
  },
  {
   "cell_type": "code",
   "execution_count": 46,
   "id": "1bd373ee",
   "metadata": {},
   "outputs": [
    {
     "data": {
      "image/png": "[encoded data removed]",
      "text/plain": [
       "Figure(PyObject <Figure size 640x480 with 1 Axes>)"
      ]
     },
     "metadata": {},
     "output_type": "display_data"
    },
    {
     "data": {
      "text/plain": [
       "PyObject <matplotlib.legend.Legend object at 0x0000000051CE9760>"
      ]
     },
     "execution_count": 46,
     "metadata": {},
     "output_type": "execute_result"
    }
   ],
   "source": [
    "fig,ax = subplots()\n",
    "xs= range(-4pi,2pi,length=100)\n",
    "\n",
    "ax.plot(xs,sin.(xs),color=\"g\",label=\"sin(x)\")\n",
    "\n",
    "ax.plot(xs, map(x -> ForwardDiff.derivative(sin, x),xs),\n",
    "color=\"b\",label=\"derivative sin(x)\")\n",
    "\n",
    "ax.grid()\n",
    "ax.set_xlabel(\"x\"),ax.set_ylabel(\"y\")\n",
    "ax.legend()"
   ]
  },
  {
   "cell_type": "code",
   "execution_count": 48,
   "id": "32958b8b",
   "metadata": {},
   "outputs": [
    {
     "data": {
      "image/png": "[encoded data removed]",
      "text/plain": [
       "Figure(PyObject <Figure size 640x480 with 2 Axes>)"
      ]
     },
     "metadata": {},
     "output_type": "display_data"
    },
    {
     "data": {
      "text/plain": [
       "PyObject Text(0.5, 1.0, 'derivative of sigmoid')"
      ]
     },
     "execution_count": 48,
     "metadata": {},
     "output_type": "execute_result"
    }
   ],
   "source": [
    "sig(x) = 1/(1+exp(-x))\n",
    "\n",
    "xs = range(-5,5,length=100)\n",
    "\n",
    "fig,axes=subplots(2,1)\n",
    "\n",
    "axes[1].plot(xs,sig.(xs))\n",
    "axes[1].grid()\n",
    "axes[1].set_xlabel(\"x\"),axes[1].set_ylabel(\"y\")\n",
    "axes[1].set_title(\"sigmoid\")\n",
    "\n",
    "axes[2].plot(xs,map(x -> ForwardDiff.derivative(sig,x),xs))\n",
    "axes[2].grid()\n",
    "axes[2].set_xlabel(\"x\"),axes[1].set_ylabel(\"y\")\n",
    "axes[2].set_title(\"derivative of sigmoid\")"
   ]
  },
  {
   "cell_type": "code",
   "execution_count": 49,
   "id": "56c5387b",
   "metadata": {},
   "outputs": [
    {
     "data": {
      "text/latex": [
       "\\begin{verbatim}\n",
       "log(b,x)\n",
       "\\end{verbatim}\n",
       "Compute the base \\texttt{b} logarithm of \\texttt{x}. Throws \\href{@ref}{\\texttt{DomainError}} for negative \\href{@ref}{\\texttt{Real}} arguments.\n",
       "\n",
       "\\section{Examples}\n",
       "\\begin{verbatim}\n",
       "julia> log(4,8)\n",
       "1.5\n",
       "\n",
       "julia> log(4,2)\n",
       "0.5\n",
       "\n",
       "julia> log(-2, 3)\n",
       "ERROR: DomainError with -2.0:\n",
       "log will only return a complex result if called with a complex argument. Try log(Complex(x)).\n",
       "Stacktrace:\n",
       " [1] throw_complex_domainerror(::Symbol, ::Float64) at ./math.jl:31\n",
       "[...]\n",
       "\n",
       "julia> log(2, -3)\n",
       "ERROR: DomainError with -3.0:\n",
       "log will only return a complex result if called with a complex argument. Try log(Complex(x)).\n",
       "Stacktrace:\n",
       " [1] throw_complex_domainerror(::Symbol, ::Float64) at ./math.jl:31\n",
       "[...]\n",
       "\\end{verbatim}\n",
       "\\begin{quote}\n",
       "\\textbf{note}\n",
       "\n",
       "Note\n",
       "\n",
       "If \\texttt{b} is a power of 2 or 10, \\href{@ref}{\\texttt{log2}} or \\href{@ref}{\\texttt{log10}} should be used, as these will typically be faster and more accurate. For example,\n",
       "\n",
       "\\begin{verbatim}\n",
       "julia> log(100,1000000)\n",
       "2.9999999999999996\n",
       "\n",
       "julia> log10(1000000)/2\n",
       "3.0\n",
       "\\end{verbatim}\n",
       "\\end{quote}\n",
       "\\rule{\\textwidth}{1pt}\n",
       "\\begin{verbatim}\n",
       "log(x)\n",
       "\\end{verbatim}\n",
       "Compute the natural logarithm of \\texttt{x}. Throws \\href{@ref}{\\texttt{DomainError}} for negative \\href{@ref}{\\texttt{Real}} arguments. Use complex negative arguments to obtain complex results.\n",
       "\n",
       "See also [\\texttt{log1p}], [\\texttt{log2}], [\\texttt{log10}].\n",
       "\n",
       "\\section{Examples}\n",
       "\\begin{verbatim}\n",
       "julia> log(2)\n",
       "0.6931471805599453\n",
       "\n",
       "julia> log(-3)\n",
       "ERROR: DomainError with -3.0:\n",
       "log will only return a complex result if called with a complex argument. Try log(Complex(x)).\n",
       "Stacktrace:\n",
       " [1] throw_complex_domainerror(::Symbol, ::Float64) at ./math.jl:31\n",
       "[...]\n",
       "\\end{verbatim}\n",
       "\\rule{\\textwidth}{1pt}\n",
       "\\begin{verbatim}\n",
       "log(A::StridedMatrix)\n",
       "\\end{verbatim}\n",
       "If \\texttt{A} has no negative real eigenvalue, compute the principal matrix logarithm of \\texttt{A}, i.e. the unique matrix $X$ such that $e^X = A$ and $-\\pi < Im(\\lambda) < \\pi$ for all the eigenvalues $\\lambda$ of $X$. If \\texttt{A} has nonpositive eigenvalues, a nonprincipal matrix function is returned whenever possible.\n",
       "\n",
       "If \\texttt{A} is symmetric or Hermitian, its eigendecomposition (\\href{@ref}{\\texttt{eigen}}) is used, if \\texttt{A} is triangular an improved version of the inverse scaling and squaring method is employed (see \\footnotemark[AH12] and \\footnotemark[AHR13]). If \\texttt{A} is real with no negative eigenvalues, then the real Schur form is computed. Otherwise, the complex Schur form is computed. Then the upper (quasi-)triangular algorithm in \\footnotemark[AHR13] is used on the upper (quasi-)triangular factor.\n",
       "\n",
       "\\footnotetext[AH12]{Awad H. Al-Mohy and Nicholas J. Higham, \"Improved inverse  scaling and squaring algorithms for the matrix logarithm\", SIAM Journal on Scientific Computing, 34(4), 2012, C153-C169. \\href{https://doi.org/10.1137/110852553}{doi:10.1137/110852553}\n",
       "\n",
       "}\n",
       "\\footnotetext[AHR13]{Awad H. Al-Mohy, Nicholas J. Higham and Samuel D. Relton, \"Computing the Fréchet derivative of the matrix logarithm and estimating the condition number\", SIAM Journal on Scientific Computing, 35(4), 2013, C394-C410. \\href{https://doi.org/10.1137/120885991}{doi:10.1137/120885991}\n",
       "\n",
       "}\n",
       "\\section{Examples}\n",
       "\\begin{verbatim}\n",
       "julia> A = Matrix(2.7182818*I, 2, 2)\n",
       "2×2 Matrix{Float64}:\n",
       " 2.71828  0.0\n",
       " 0.0      2.71828\n",
       "\n",
       "julia> log(A)\n",
       "2×2 Matrix{Float64}:\n",
       " 1.0  0.0\n",
       " 0.0  1.0\n",
       "\\end{verbatim}\n"
      ],
      "text/markdown": [
       "```\n",
       "log(b,x)\n",
       "```\n",
       "\n",
       "Compute the base `b` logarithm of `x`. Throws [`DomainError`](@ref) for negative [`Real`](@ref) arguments.\n",
       "\n",
       "# Examples\n",
       "\n",
       "```jldoctest; filter = r\"Stacktrace:(\\n \\[[0-9]+\\].*)*\"\n",
       "julia> log(4,8)\n",
       "1.5\n",
       "\n",
       "julia> log(4,2)\n",
       "0.5\n",
       "\n",
       "julia> log(-2, 3)\n",
       "ERROR: DomainError with -2.0:\n",
       "log will only return a complex result if called with a complex argument. Try log(Complex(x)).\n",
       "Stacktrace:\n",
       " [1] throw_complex_domainerror(::Symbol, ::Float64) at ./math.jl:31\n",
       "[...]\n",
       "\n",
       "julia> log(2, -3)\n",
       "ERROR: DomainError with -3.0:\n",
       "log will only return a complex result if called with a complex argument. Try log(Complex(x)).\n",
       "Stacktrace:\n",
       " [1] throw_complex_domainerror(::Symbol, ::Float64) at ./math.jl:31\n",
       "[...]\n",
       "```\n",
       "\n",
       "!!! note\n",
       "    If `b` is a power of 2 or 10, [`log2`](@ref) or [`log10`](@ref) should be used, as these will typically be faster and more accurate. For example,\n",
       "\n",
       "    ```jldoctest\n",
       "    julia> log(100,1000000)\n",
       "    2.9999999999999996\n",
       "\n",
       "    julia> log10(1000000)/2\n",
       "    3.0\n",
       "    ```\n",
       "\n",
       "\n",
       "---\n",
       "\n",
       "```\n",
       "log(x)\n",
       "```\n",
       "\n",
       "Compute the natural logarithm of `x`. Throws [`DomainError`](@ref) for negative [`Real`](@ref) arguments. Use complex negative arguments to obtain complex results.\n",
       "\n",
       "See also [`log1p`], [`log2`], [`log10`].\n",
       "\n",
       "# Examples\n",
       "\n",
       "```jldoctest; filter = r\"Stacktrace:(\\n \\[[0-9]+\\].*)*\"\n",
       "julia> log(2)\n",
       "0.6931471805599453\n",
       "\n",
       "julia> log(-3)\n",
       "ERROR: DomainError with -3.0:\n",
       "log will only return a complex result if called with a complex argument. Try log(Complex(x)).\n",
       "Stacktrace:\n",
       " [1] throw_complex_domainerror(::Symbol, ::Float64) at ./math.jl:31\n",
       "[...]\n",
       "```\n",
       "\n",
       "---\n",
       "\n",
       "```\n",
       "log(A::StridedMatrix)\n",
       "```\n",
       "\n",
       "If `A` has no negative real eigenvalue, compute the principal matrix logarithm of `A`, i.e. the unique matrix $X$ such that $e^X = A$ and $-\\pi < Im(\\lambda) < \\pi$ for all the eigenvalues $\\lambda$ of $X$. If `A` has nonpositive eigenvalues, a nonprincipal matrix function is returned whenever possible.\n",
       "\n",
       "If `A` is symmetric or Hermitian, its eigendecomposition ([`eigen`](@ref)) is used, if `A` is triangular an improved version of the inverse scaling and squaring method is employed (see [^AH12] and [^AHR13]). If `A` is real with no negative eigenvalues, then the real Schur form is computed. Otherwise, the complex Schur form is computed. Then the upper (quasi-)triangular algorithm in [^AHR13] is used on the upper (quasi-)triangular factor.\n",
       "\n",
       "[^AH12]: Awad H. Al-Mohy and Nicholas J. Higham, \"Improved inverse  scaling and squaring algorithms for the matrix logarithm\", SIAM Journal on Scientific Computing, 34(4), 2012, C153-C169. [doi:10.1137/110852553](https://doi.org/10.1137/110852553)\n",
       "\n",
       "[^AHR13]: Awad H. Al-Mohy, Nicholas J. Higham and Samuel D. Relton, \"Computing the Fréchet derivative of the matrix logarithm and estimating the condition number\", SIAM Journal on Scientific Computing, 35(4), 2013, C394-C410. [doi:10.1137/120885991](https://doi.org/10.1137/120885991)\n",
       "\n",
       "# Examples\n",
       "\n",
       "```jldoctest\n",
       "julia> A = Matrix(2.7182818*I, 2, 2)\n",
       "2×2 Matrix{Float64}:\n",
       " 2.71828  0.0\n",
       " 0.0      2.71828\n",
       "\n",
       "julia> log(A)\n",
       "2×2 Matrix{Float64}:\n",
       " 1.0  0.0\n",
       " 0.0  1.0\n",
       "```\n"
      ],
      "text/plain": [
       "\u001b[36m  log(b,x)\u001b[39m\n",
       "\n",
       "  Compute the base \u001b[36mb\u001b[39m logarithm of \u001b[36mx\u001b[39m. Throws \u001b[36mDomainError\u001b[39m for negative \u001b[36mReal\u001b[39m\n",
       "  arguments.\n",
       "\n",
       "\u001b[1m  Examples\u001b[22m\n",
       "\u001b[1m  ≡≡≡≡≡≡≡≡≡≡\u001b[22m\n",
       "\n",
       "\u001b[36m  julia> log(4,8)\u001b[39m\n",
       "\u001b[36m  1.5\u001b[39m\n",
       "\u001b[36m  \u001b[39m\n",
       "\u001b[36m  julia> log(4,2)\u001b[39m\n",
       "\u001b[36m  0.5\u001b[39m\n",
       "\u001b[36m  \u001b[39m\n",
       "\u001b[36m  julia> log(-2, 3)\u001b[39m\n",
       "\u001b[36m  ERROR: DomainError with -2.0:\u001b[39m\n",
       "\u001b[36m  log will only return a complex result if called with a complex argument. Try log(Complex(x)).\u001b[39m\n",
       "\u001b[36m  Stacktrace:\u001b[39m\n",
       "\u001b[36m   [1] throw_complex_domainerror(::Symbol, ::Float64) at ./math.jl:31\u001b[39m\n",
       "\u001b[36m  [...]\u001b[39m\n",
       "\u001b[36m  \u001b[39m\n",
       "\u001b[36m  julia> log(2, -3)\u001b[39m\n",
       "\u001b[36m  ERROR: DomainError with -3.0:\u001b[39m\n",
       "\u001b[36m  log will only return a complex result if called with a complex argument. Try log(Complex(x)).\u001b[39m\n",
       "\u001b[36m  Stacktrace:\u001b[39m\n",
       "\u001b[36m   [1] throw_complex_domainerror(::Symbol, ::Float64) at ./math.jl:31\u001b[39m\n",
       "\u001b[36m  [...]\u001b[39m\n",
       "\n",
       "\u001b[36m\u001b[1m  │ \u001b[22m\u001b[39m\u001b[36m\u001b[1mNote\u001b[22m\u001b[39m\n",
       "\u001b[36m\u001b[1m  │\u001b[22m\u001b[39m\n",
       "\u001b[36m\u001b[1m  │\u001b[22m\u001b[39m  If \u001b[36mb\u001b[39m is a power of 2 or 10, \u001b[36mlog2\u001b[39m or \u001b[36mlog10\u001b[39m should be used, as these\n",
       "\u001b[36m\u001b[1m  │\u001b[22m\u001b[39m  will typically be faster and more accurate. For example,\n",
       "\u001b[36m\u001b[1m  │\u001b[22m\u001b[39m\n",
       "\u001b[36m\u001b[1m  │\u001b[22m\u001b[39m\u001b[36m  julia> log(100,1000000)\u001b[39m\n",
       "\u001b[36m\u001b[1m  │\u001b[22m\u001b[39m\u001b[36m  2.9999999999999996\u001b[39m\n",
       "\u001b[36m\u001b[1m  │\u001b[22m\u001b[39m\u001b[36m  \u001b[39m\n",
       "\u001b[36m\u001b[1m  │\u001b[22m\u001b[39m\u001b[36m  julia> log10(1000000)/2\u001b[39m\n",
       "\u001b[36m\u001b[1m  │\u001b[22m\u001b[39m\u001b[36m  3.0\u001b[39m\n",
       "\n",
       "  ────────────────────────────────────────────────────────────────────────────\n",
       "\n",
       "\u001b[36m  log(x)\u001b[39m\n",
       "\n",
       "  Compute the natural logarithm of \u001b[36mx\u001b[39m. Throws \u001b[36mDomainError\u001b[39m for negative \u001b[36mReal\u001b[39m\n",
       "  arguments. Use complex negative arguments to obtain complex results.\n",
       "\n",
       "  See also [\u001b[36mlog1p\u001b[39m], [\u001b[36mlog2\u001b[39m], [\u001b[36mlog10\u001b[39m].\n",
       "\n",
       "\u001b[1m  Examples\u001b[22m\n",
       "\u001b[1m  ≡≡≡≡≡≡≡≡≡≡\u001b[22m\n",
       "\n",
       "\u001b[36m  julia> log(2)\u001b[39m\n",
       "\u001b[36m  0.6931471805599453\u001b[39m\n",
       "\u001b[36m  \u001b[39m\n",
       "\u001b[36m  julia> log(-3)\u001b[39m\n",
       "\u001b[36m  ERROR: DomainError with -3.0:\u001b[39m\n",
       "\u001b[36m  log will only return a complex result if called with a complex argument. Try log(Complex(x)).\u001b[39m\n",
       "\u001b[36m  Stacktrace:\u001b[39m\n",
       "\u001b[36m   [1] throw_complex_domainerror(::Symbol, ::Float64) at ./math.jl:31\u001b[39m\n",
       "\u001b[36m  [...]\u001b[39m\n",
       "\n",
       "  ────────────────────────────────────────────────────────────────────────────\n",
       "\n",
       "\u001b[36m  log(A::StridedMatrix)\u001b[39m\n",
       "\n",
       "  If \u001b[36mA\u001b[39m has no negative real eigenvalue, compute the principal matrix logarithm\n",
       "  of \u001b[36mA\u001b[39m, i.e. the unique matrix \u001b[35mX\u001b[39m such that \u001b[35me^X = A\u001b[39m and \u001b[35m-\\pi < Im(\\lambda) <\n",
       "  \\pi\u001b[39m for all the eigenvalues \u001b[35m\\lambda\u001b[39m of \u001b[35mX\u001b[39m. If \u001b[36mA\u001b[39m has nonpositive eigenvalues,\n",
       "  a nonprincipal matrix function is returned whenever possible.\n",
       "\n",
       "  If \u001b[36mA\u001b[39m is symmetric or Hermitian, its eigendecomposition (\u001b[36meigen\u001b[39m) is used, if \u001b[36mA\u001b[39m\n",
       "  is triangular an improved version of the inverse scaling and squaring method\n",
       "  is employed (see \u001b[1m[^AH12]\u001b[22m and \u001b[1m[^AHR13]\u001b[22m). If \u001b[36mA\u001b[39m is real with no negative\n",
       "  eigenvalues, then the real Schur form is computed. Otherwise, the complex\n",
       "  Schur form is computed. Then the upper (quasi-)triangular algorithm in\n",
       "  \u001b[1m[^AHR13]\u001b[22m is used on the upper (quasi-)triangular factor.\n",
       "\n",
       "  │ \u001b[0m\u001b[1m[^AH12]\u001b[22m\n",
       "  │\n",
       "  │  Awad H. Al-Mohy and Nicholas J. Higham, \"Improved inverse scaling\n",
       "  │  and squaring algorithms for the matrix logarithm\", SIAM Journal on\n",
       "  │  Scientific Computing, 34(4), 2012, C153-C169.\n",
       "  │  doi:10.1137/110852553 (https://doi.org/10.1137/110852553)\n",
       "\n",
       "  │ \u001b[0m\u001b[1m[^AHR13]\u001b[22m\n",
       "  │\n",
       "  │  Awad H. Al-Mohy, Nicholas J. Higham and Samuel D. Relton,\n",
       "  │  \"Computing the Fréchet derivative of the matrix logarithm and\n",
       "  │  estimating the condition number\", SIAM Journal on Scientific\n",
       "  │  Computing, 35(4), 2013, C394-C410. doi:10.1137/120885991\n",
       "  │  (https://doi.org/10.1137/120885991)\n",
       "\n",
       "\u001b[1m  Examples\u001b[22m\n",
       "\u001b[1m  ≡≡≡≡≡≡≡≡≡≡\u001b[22m\n",
       "\n",
       "\u001b[36m  julia> A = Matrix(2.7182818*I, 2, 2)\u001b[39m\n",
       "\u001b[36m  2×2 Matrix{Float64}:\u001b[39m\n",
       "\u001b[36m   2.71828  0.0\u001b[39m\n",
       "\u001b[36m   0.0      2.71828\u001b[39m\n",
       "\u001b[36m  \u001b[39m\n",
       "\u001b[36m  julia> log(A)\u001b[39m\n",
       "\u001b[36m  2×2 Matrix{Float64}:\u001b[39m\n",
       "\u001b[36m   1.0  0.0\u001b[39m\n",
       "\u001b[36m   0.0  1.0\u001b[39m"
      ]
     },
     "execution_count": 49,
     "metadata": {},
     "output_type": "execute_result"
    }
   ],
   "source": [
    "?log()"
   ]
  },
  {
   "cell_type": "code",
   "execution_count": 56,
   "id": "5b445e81",
   "metadata": {},
   "outputs": [
    {
     "data": {
      "image/png": "[encoded data removed]",
      "text/plain": [
       "Figure(PyObject <Figure size 640x480 with 1 Axes>)"
      ]
     },
     "metadata": {},
     "output_type": "display_data"
    },
    {
     "data": {
      "text/plain": [
       "PyObject <matplotlib.legend.Legend object at 0x000000000A767880>"
      ]
     },
     "execution_count": 56,
     "metadata": {},
     "output_type": "execute_result"
    }
   ],
   "source": [
    "x_opt = ℯ^5\n",
    "f(x) = log(x)\n",
    "\n",
    "fig,ax = subplots()\n",
    "\n",
    "xs = range(0,ℯ^6, length=100)\n",
    "ax.plot(xs,f.(xs),label=\"function\")\n",
    "ax.plot(x_opt,f(x_opt), \"yx\" ,label=\"optimal\")\n",
    "ax.set_xlabel(\"x\"),ax.set_ylabel(\"y\")\n",
    "ax.grid()\n",
    "ax.legend()"
   ]
  },
  {
   "cell_type": "code",
   "execution_count": 57,
   "id": "9f284059",
   "metadata": {},
   "outputs": [
    {
     "data": {
      "text/plain": [
       "gradient_method_1dim (generic function with 1 method)"
      ]
     },
     "execution_count": 57,
     "metadata": {},
     "output_type": "execute_result"
    }
   ],
   "source": [
    "function gradient_method_1dim(f,x_init,η,maxiter)\n",
    "    \n",
    "    x_seq =Array{typeof(x_init),1}(undef,maxiter)\n",
    "    \n",
    "    fp(x) = ForwardDiff.derivative(f,x)\n",
    "    \n",
    "    x_seq[1] = x_init\n",
    "    \n",
    "    for i in 2:maxiter\n",
    "        \n",
    "    x_seq[i] = x_seq[i-1] + η*fp(x_seq[i-1])\n",
    "    end\n",
    "    \n",
    "    x_seq\n",
    "end"
   ]
  },
  {
   "cell_type": "code",
   "execution_count": 86,
   "id": "c9b0d7ba",
   "metadata": {},
   "outputs": [
    {
     "data": {
      "text/plain": [
       "50-element Vector{Float64}:\n",
       " 4.0\n",
       " 4.0329958623601465\n",
       " 4.063916796532032\n",
       " 4.093010155243371\n",
       " 4.12048135326684\n",
       " 4.14650287062896\n",
       " 4.171220957136238\n",
       " 4.194760709600527\n",
       " 4.217229974640845\n",
       " 4.23872238919948\n",
       " 4.259319778092642\n",
       " 4.279094065393373\n",
       " 4.2981088135177785\n",
       " ⋮\n",
       " 4.636432937568288\n",
       " 4.645782980414528\n",
       " 4.6549605937715945\n",
       " 4.663972036396268\n",
       " 4.672823231856332\n",
       " 4.681519792071361\n",
       " 4.690067038820784\n",
       " 4.6984700234264345\n",
       " 4.706733544792535\n",
       " 4.714862165965028\n",
       " 4.7228602293538025\n",
       " 4.7307318707454336"
      ]
     },
     "execution_count": 86,
     "metadata": {},
     "output_type": "execute_result"
    }
   ],
   "source": [
    "x_init = ℯ^(4.0)\n",
    "maxiter = 50\n",
    "η = 100\n",
    "\n",
    "x_seq = gradient_method_1dim(f,x_init,η,maxiter)\n",
    "f_seq = f.(x_seq)"
   ]
  },
  {
   "cell_type": "code",
   "execution_count": 87,
   "id": "1c518191",
   "metadata": {},
   "outputs": [
    {
     "data": {
      "image/png": "[encoded data removed]",
      "text/plain": [
       "Figure(PyObject <Figure size 640x480 with 1 Axes>)"
      ]
     },
     "metadata": {},
     "output_type": "display_data"
    },
    {
     "data": {
      "image/png": "[encoded data removed]",
      "text/plain": [
       "Figure(PyObject <Figure size 640x480 with 2 Axes>)"
      ]
     },
     "metadata": {},
     "output_type": "display_data"
    }
   ],
   "source": [
    "fig,ax = subplots()\n",
    "ax.plot(f_seq)\n",
    "ax.set_xlabel(\"iteration\"),ax.set_ylabel(\"f\")\n",
    "ax.grid\n",
    "\n",
    "fig,axes = subplots(2,1)\n",
    "\n",
    "axes[1].plot(xs,f.(xs),\"b\",label=\"function\")\n",
    "axes[1].plot(x_seq,f_seq,\"rx\",label=\"sequence\")\n",
    "\n",
    "axes[1].plot(x_opt,f(x_opt),\"mo\",label=\"optimal\")\n",
    "axes[1].set_xlabel(\"x\"),axes[1].set_ylabel(\"y\")\n",
    "axes[1].grid()\n",
    "axes[1].legend()\n",
    "\n",
    "axes[2].plot(1:maxiter, x_seq,\"bo:\",label=\"sequence\")\n",
    "axes[2].hlines(x_opt,0,maxiter,ls=\"--\",label=\"x_opt\")\n",
    "axes[2].set_xlim([0,maxiter])\n",
    "axes[2].set_xlabel(\"iteration\"),axes[2].set_ylabel(\"x\")\n",
    "axes[2].grid()\n",
    "axes[2].legend()\n",
    "\n",
    "tight_layout()"
   ]
  },
  {
   "cell_type": "code",
   "execution_count": null,
   "id": "96932fb5",
   "metadata": {},
   "outputs": [],
   "source": []
  }
 ],
 "metadata": {
  "kernelspec": {
   "display_name": "Julia 1.7.2",
   "language": "julia",
   "name": "julia-1.7"
  },
  "language_info": {
   "file_extension": ".jl",
   "mimetype": "application/julia",
   "name": "julia",
   "version": "1.7.2"
  }
 },
 "nbformat": 4,
 "nbformat_minor": 5
}
